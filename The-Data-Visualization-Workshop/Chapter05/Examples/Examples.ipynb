{
 "cells": [
  {
   "cell_type": "markdown",
   "metadata": {},
   "source": [
    "## Examples"
   ]
  },
  {
   "cell_type": "markdown",
   "metadata": {},
   "source": [
    "In this examples document we will look at the plots and techniques we'll be using in the following exercises and activities."
   ]
  },
  {
   "cell_type": "markdown",
   "metadata": {},
   "source": [
    "#### Loading our dataset"
   ]
  },
  {
   "cell_type": "code",
   "execution_count": 19,
   "metadata": {},
   "outputs": [],
   "source": [
    "# importing the necessary dependencies\n",
    "import geoplotlib\n",
    "from geoplotlib.utils import BoundingBox, DataAccessObject\n",
    "import numpy as np\n",
    "import pandas as pd"
   ]
  },
  {
   "cell_type": "code",
   "execution_count": 20,
   "metadata": {},
   "outputs": [],
   "source": [
    "# loading the Dataset with geoplotlib\n",
    "dataset = pd.read_csv('../../Datasets/world_cities_pop.csv', dtype={'Region': np.str})\n",
    "\n",
    "# Adding lat and lon column needed by geoplotlib\n",
    "dataset['lat'] = dataset['Latitude']\n",
    "dataset['lon'] = dataset['Longitude']"
   ]
  },
  {
   "cell_type": "code",
   "execution_count": 21,
   "metadata": {},
   "outputs": [],
   "source": [
    "# filtering for cities in brasil\n",
    "dataset_filtered = dataset[dataset['Country'] == 'br']"
   ]
  },
  {
   "cell_type": "code",
   "execution_count": 22,
   "metadata": {},
   "outputs": [
    {
     "data": {
      "text/html": [
       "<div>\n",
       "<style scoped>\n",
       "    .dataframe tbody tr th:only-of-type {\n",
       "        vertical-align: middle;\n",
       "    }\n",
       "\n",
       "    .dataframe tbody tr th {\n",
       "        vertical-align: top;\n",
       "    }\n",
       "\n",
       "    .dataframe thead th {\n",
       "        text-align: right;\n",
       "    }\n",
       "</style>\n",
       "<table border=\"1\" class=\"dataframe\">\n",
       "  <thead>\n",
       "    <tr style=\"text-align: right;\">\n",
       "      <th></th>\n",
       "      <th>Country</th>\n",
       "      <th>City</th>\n",
       "      <th>AccentCity</th>\n",
       "      <th>Region</th>\n",
       "      <th>Population</th>\n",
       "      <th>Latitude</th>\n",
       "      <th>Longitude</th>\n",
       "      <th>lat</th>\n",
       "      <th>lon</th>\n",
       "    </tr>\n",
       "  </thead>\n",
       "  <tbody>\n",
       "    <tr>\n",
       "      <th>285943</th>\n",
       "      <td>br</td>\n",
       "      <td>10 de novembro</td>\n",
       "      <td>10 de Novembro</td>\n",
       "      <td>26</td>\n",
       "      <td>NaN</td>\n",
       "      <td>-27.033333</td>\n",
       "      <td>-50.933333</td>\n",
       "      <td>-27.033333</td>\n",
       "      <td>-50.933333</td>\n",
       "    </tr>\n",
       "    <tr>\n",
       "      <th>285944</th>\n",
       "      <td>br</td>\n",
       "      <td>13 de maio</td>\n",
       "      <td>13 de Maio</td>\n",
       "      <td>26</td>\n",
       "      <td>NaN</td>\n",
       "      <td>-28.583333</td>\n",
       "      <td>-49.166667</td>\n",
       "      <td>-28.583333</td>\n",
       "      <td>-49.166667</td>\n",
       "    </tr>\n",
       "    <tr>\n",
       "      <th>285945</th>\n",
       "      <td>br</td>\n",
       "      <td>14 de julho</td>\n",
       "      <td>14 de Julho</td>\n",
       "      <td>21</td>\n",
       "      <td>NaN</td>\n",
       "      <td>-22.764965</td>\n",
       "      <td>-43.289678</td>\n",
       "      <td>-22.764965</td>\n",
       "      <td>-43.289678</td>\n",
       "    </tr>\n",
       "    <tr>\n",
       "      <th>285946</th>\n",
       "      <td>br</td>\n",
       "      <td>14 de maio</td>\n",
       "      <td>14 de Maio</td>\n",
       "      <td>11</td>\n",
       "      <td>NaN</td>\n",
       "      <td>-22.533333</td>\n",
       "      <td>-54.350000</td>\n",
       "      <td>-22.533333</td>\n",
       "      <td>-54.350000</td>\n",
       "    </tr>\n",
       "    <tr>\n",
       "      <th>285947</th>\n",
       "      <td>br</td>\n",
       "      <td>15 de novembro</td>\n",
       "      <td>15 de Novembro</td>\n",
       "      <td>23</td>\n",
       "      <td>NaN</td>\n",
       "      <td>-28.750000</td>\n",
       "      <td>-53.100000</td>\n",
       "      <td>-28.750000</td>\n",
       "      <td>-53.100000</td>\n",
       "    </tr>\n",
       "  </tbody>\n",
       "</table>\n",
       "</div>"
      ],
      "text/plain": [
       "       Country            City      AccentCity Region  Population   Latitude  \\\n",
       "285943      br  10 de novembro  10 de Novembro     26         NaN -27.033333   \n",
       "285944      br      13 de maio      13 de Maio     26         NaN -28.583333   \n",
       "285945      br     14 de julho     14 de Julho     21         NaN -22.764965   \n",
       "285946      br      14 de maio      14 de Maio     11         NaN -22.533333   \n",
       "285947      br  15 de novembro  15 de Novembro     23         NaN -28.750000   \n",
       "\n",
       "        Longitude        lat        lon  \n",
       "285943 -50.933333 -27.033333 -50.933333  \n",
       "285944 -49.166667 -28.583333 -49.166667  \n",
       "285945 -43.289678 -22.764965 -43.289678  \n",
       "285946 -54.350000 -22.533333 -54.350000  \n",
       "285947 -53.100000 -28.750000 -53.100000  "
      ]
     },
     "execution_count": 22,
     "metadata": {},
     "output_type": "execute_result"
    }
   ],
   "source": [
    "# displaying the first 5 entries of the filtered dataset\n",
    "dataset_filtered.head()"
   ]
  },
  {
   "cell_type": "markdown",
   "metadata": {},
   "source": [
    "---"
   ]
  },
  {
   "cell_type": "markdown",
   "metadata": {},
   "source": [
    "### DotDensity\n",
    "A DotDensity plot displays each datapoint as a single dot on the map. By default each dot has the same size, simply showing the amount of datpoints at a given location."
   ]
  },
  {
   "cell_type": "code",
   "execution_count": 23,
   "metadata": {},
   "outputs": [],
   "source": [
    "# plotting our dataset as dot density plot\n",
    "dataset_obj = DataAccessObject(dataset_filtered)\n",
    "geoplotlib.dot(dataset_obj, f_tooltip=lambda d:d['City'].title())\n",
    "\n",
    "geoplotlib.show()"
   ]
  },
  {
   "cell_type": "markdown",
   "metadata": {},
   "source": [
    "### Voronoi tessellation\n",
    "In a Voronoi tessellation, each pair of data points is basically separated by a line that has the same distance from both data points. The separation creates cells that, for every given point, marks which data point is closer. The closer the data points, the smaller the cells.\n",
    "The following example shows how to simply use the voronoi method to create this visualization.\n"
   ]
  },
  {
   "cell_type": "code",
   "execution_count": 24,
   "metadata": {},
   "outputs": [],
   "source": [
    "# plotting our dataset as voronoi plot\n",
    "geoplotlib.voronoi(dataset_filtered, line_color='b')\n",
    "geoplotlib.set_smoothing(True)\n",
    "\n",
    "geoplotlib.show()"
   ]
  },
  {
   "cell_type": "markdown",
   "metadata": {},
   "source": [
    "### Delaunay triangulation\n",
    "A Delaunay triangulation is related to the Voronoi tessellation. When connecting each data point to every other data point that shares an edge, we end up with a plot that is triangulated. The closer the data points, the smaller the triangles will be. This gives us a visual clue about the density of points in specific areas. When combined with color gradients, we get insights about points of interests, which can be compared with a heatmap.\n"
   ]
  },
  {
   "cell_type": "code",
   "execution_count": 25,
   "metadata": {},
   "outputs": [],
   "source": [
    "# plotting our dataset as a delaunay\n",
    "geoplotlib.delaunay(dataset_filtered, cmap='hot_r')\n",
    "geoplotlib.set_smoothing(True)\n",
    "\n",
    "geoplotlib.show()"
   ]
  },
  {
   "cell_type": "markdown",
   "metadata": {},
   "source": [
    "### Choropleth Plot\n",
    "This kind of geographical plot displays areas such as states of a country in a shaded or colored manner. The shade or color is determined by a single or set of data points. It gives an abstract view of a geographical area to visualize the relations and differences between the different areas. In the following code and visual example, we can see that the shade of each state of the US is determined by the unemployment rate. The darker the shade, the higher the rate."
   ]
  },
  {
   "cell_type": "code",
   "execution_count": 26,
   "metadata": {},
   "outputs": [],
   "source": [
    "from geoplotlib.colors import ColorMap\n",
    "import json\n",
    "\n",
    "\n",
    "# find the unemployment rate for the selected county, and convert it to color\n",
    "def get_color(properties):\n",
    "    key = str(int(properties['STATE'])) + properties['COUNTY']\n",
    "    if key in unemployment_rates:\n",
    "        return cmap.to_color(unemployment_rates.get(key), .15, 'lin')\n",
    "    else:\n",
    "        return [0, 0, 0, 0]\n",
    "\n",
    "# get unemployment data\n",
    "with open('../../datasets/unemployment.json') as fin:\n",
    "    unemployment_rates = json.load(fin)\n",
    "\n",
    "# plot the outlines of the states and color them using the unemployment rate\n",
    "cmap = ColorMap('Reds', alpha=255, levels=10)\n",
    "geoplotlib.geojson('../../datasets/us_states_shapes.json', fill=True, color=get_color, f_tooltip=lambda properties: properties['NAME'])\n",
    "geoplotlib.geojson('../../datasets/us_states_shapes.json', fill=False, color=[255, 255, 255, 64])\n",
    "geoplotlib.set_bbox(BoundingBox.USA)\n",
    "\n",
    "geoplotlib.show()"
   ]
  },
  {
   "cell_type": "markdown",
   "metadata": {},
   "source": [
    "---"
   ]
  },
  {
   "cell_type": "markdown",
   "metadata": {},
   "source": [
    "### Custom Layers\n",
    "Custom layers allow you to create more complex data visualizations. They also help with adding more interactivity and animation to them. Creating a custom layer starts by defining a new class that extends the `BaseLayer` class that's provided by Geoplotlib. Besides the `__init__` method that initializes the class level variables, we also have to at least extend the draw method of the already provided `BaseLayer` class."
   ]
  },
  {
   "cell_type": "code",
   "execution_count": 27,
   "metadata": {},
   "outputs": [],
   "source": [
    "# importing the necessary dependencies\n",
    "import pyglet\n",
    "from geoplotlib.layers import BaseLayer\n",
    "from geoplotlib.core import BatchPainter\n",
    "\n",
    "countries = ['be', 'ch', 'de', 'es', 'fr', 'it', 'nl', 'pt']\n",
    "\n",
    "class CountrySelectLayer(BaseLayer):\n",
    "\n",
    "    def __init__(self, data, bbox=BoundingBox.WORLD):\n",
    "        self.data = data\n",
    "        self.view = bbox\n",
    "        \n",
    "        # start with germany\n",
    "        self.country_num = 0\n",
    "        \n",
    "    def invalidate(self, proj):\n",
    "        country_data =  self.data[self.data['Country'] == countries[self.country_num]]\n",
    "        self.painter = BatchPainter()\n",
    "        \n",
    "        x, y = proj.lonlat_to_screen(country_data['lon'], country_data['lat'])\n",
    "        self.painter.points(x, y, 2)\n",
    "\n",
    "    def draw(self, proj, mouse_x, mouse_y, ui_manager):\n",
    "        self.painter.batch_draw()\n",
    "        \n",
    "    def draw(self, proj, mouse_x, mouse_y, ui_manager):  \n",
    "        self.painter.batch_draw()\n",
    "        ui_manager.info('Displaying cities in {}'.format(countries[self.country_num]))\n",
    "        \n",
    "    def on_key_release(self, key, modifiers):\n",
    "        if key == pyglet.window.key.RIGHT:\n",
    "            self.country_num = (self.country_num + 1) % len(countries)\n",
    "            return True\n",
    "        elif key == pyglet.window.key.LEFT:\n",
    "            self.country_num = (self.country_num - 1) % len(countries)\n",
    "            return True\n",
    "            \n",
    "        return False\n",
    "\n",
    "    # bounding box that gets used when layer is created\n",
    "    def bbox(self):\n",
    "        return self.view\n",
    "\n",
    "\n",
    "europe_bbox = BoundingBox(north=68.574309, west=-25.298424, south=34.266013, east=47.387123)\n",
    "geoplotlib.add_layer(CountrySelectLayer(dataset, europe_bbox))\n",
    "geoplotlib.show()"
   ]
  }
 ],
 "metadata": {
  "kernelspec": {
   "display_name": "Python 3",
   "language": "python",
   "name": "python3"
  },
  "language_info": {
   "codemirror_mode": {
    "name": "ipython",
    "version": 3
   },
   "file_extension": ".py",
   "mimetype": "text/x-python",
   "name": "python",
   "nbconvert_exporter": "python",
   "pygments_lexer": "ipython3",
   "version": "3.7.2"
  }
 },
 "nbformat": 4,
 "nbformat_minor": 2
}
