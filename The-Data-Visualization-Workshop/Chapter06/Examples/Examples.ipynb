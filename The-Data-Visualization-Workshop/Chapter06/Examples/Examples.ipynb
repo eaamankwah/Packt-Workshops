{
 "cells": [
  {
   "cell_type": "markdown",
   "metadata": {},
   "source": [
    "## Examples"
   ]
  },
  {
   "cell_type": "markdown",
   "metadata": {},
   "source": [
    "In this examples document we will look at the plots and techniques we'll be using in the following exercises and activities.\n"
   ]
  },
  {
   "cell_type": "markdown",
   "metadata": {},
   "source": [
    "#### Loading our dataset"
   ]
  },
  {
   "cell_type": "code",
   "execution_count": 10,
   "metadata": {},
   "outputs": [
    {
     "data": {
      "text/html": [
       "\n",
       "    <div class=\"bk-root\">\n",
       "        <a href=\"https://bokeh.org\" target=\"_blank\" class=\"bk-logo bk-logo-small bk-logo-notebook\"></a>\n",
       "        <span id=\"1681\">Loading BokehJS ...</span>\n",
       "    </div>"
      ]
     },
     "metadata": {},
     "output_type": "display_data"
    },
    {
     "data": {
      "application/javascript": [
       "\n",
       "(function(root) {\n",
       "  function now() {\n",
       "    return new Date();\n",
       "  }\n",
       "\n",
       "  var force = true;\n",
       "\n",
       "  if (typeof root._bokeh_onload_callbacks === \"undefined\" || force === true) {\n",
       "    root._bokeh_onload_callbacks = [];\n",
       "    root._bokeh_is_loading = undefined;\n",
       "  }\n",
       "\n",
       "  var JS_MIME_TYPE = 'application/javascript';\n",
       "  var HTML_MIME_TYPE = 'text/html';\n",
       "  var EXEC_MIME_TYPE = 'application/vnd.bokehjs_exec.v0+json';\n",
       "  var CLASS_NAME = 'output_bokeh rendered_html';\n",
       "\n",
       "  /**\n",
       "   * Render data to the DOM node\n",
       "   */\n",
       "  function render(props, node) {\n",
       "    var script = document.createElement(\"script\");\n",
       "    node.appendChild(script);\n",
       "  }\n",
       "\n",
       "  /**\n",
       "   * Handle when an output is cleared or removed\n",
       "   */\n",
       "  function handleClearOutput(event, handle) {\n",
       "    var cell = handle.cell;\n",
       "\n",
       "    var id = cell.output_area._bokeh_element_id;\n",
       "    var server_id = cell.output_area._bokeh_server_id;\n",
       "    // Clean up Bokeh references\n",
       "    if (id != null && id in Bokeh.index) {\n",
       "      Bokeh.index[id].model.document.clear();\n",
       "      delete Bokeh.index[id];\n",
       "    }\n",
       "\n",
       "    if (server_id !== undefined) {\n",
       "      // Clean up Bokeh references\n",
       "      var cmd = \"from bokeh.io.state import curstate; print(curstate().uuid_to_server['\" + server_id + \"'].get_sessions()[0].document.roots[0]._id)\";\n",
       "      cell.notebook.kernel.execute(cmd, {\n",
       "        iopub: {\n",
       "          output: function(msg) {\n",
       "            var id = msg.content.text.trim();\n",
       "            if (id in Bokeh.index) {\n",
       "              Bokeh.index[id].model.document.clear();\n",
       "              delete Bokeh.index[id];\n",
       "            }\n",
       "          }\n",
       "        }\n",
       "      });\n",
       "      // Destroy server and session\n",
       "      var cmd = \"import bokeh.io.notebook as ion; ion.destroy_server('\" + server_id + \"')\";\n",
       "      cell.notebook.kernel.execute(cmd);\n",
       "    }\n",
       "  }\n",
       "\n",
       "  /**\n",
       "   * Handle when a new output is added\n",
       "   */\n",
       "  function handleAddOutput(event, handle) {\n",
       "    var output_area = handle.output_area;\n",
       "    var output = handle.output;\n",
       "\n",
       "    // limit handleAddOutput to display_data with EXEC_MIME_TYPE content only\n",
       "    if ((output.output_type != \"display_data\") || (!output.data.hasOwnProperty(EXEC_MIME_TYPE))) {\n",
       "      return\n",
       "    }\n",
       "\n",
       "    var toinsert = output_area.element.find(\".\" + CLASS_NAME.split(' ')[0]);\n",
       "\n",
       "    if (output.metadata[EXEC_MIME_TYPE][\"id\"] !== undefined) {\n",
       "      toinsert[toinsert.length - 1].firstChild.textContent = output.data[JS_MIME_TYPE];\n",
       "      // store reference to embed id on output_area\n",
       "      output_area._bokeh_element_id = output.metadata[EXEC_MIME_TYPE][\"id\"];\n",
       "    }\n",
       "    if (output.metadata[EXEC_MIME_TYPE][\"server_id\"] !== undefined) {\n",
       "      var bk_div = document.createElement(\"div\");\n",
       "      bk_div.innerHTML = output.data[HTML_MIME_TYPE];\n",
       "      var script_attrs = bk_div.children[0].attributes;\n",
       "      for (var i = 0; i < script_attrs.length; i++) {\n",
       "        toinsert[toinsert.length - 1].firstChild.setAttribute(script_attrs[i].name, script_attrs[i].value);\n",
       "      }\n",
       "      // store reference to server id on output_area\n",
       "      output_area._bokeh_server_id = output.metadata[EXEC_MIME_TYPE][\"server_id\"];\n",
       "    }\n",
       "  }\n",
       "\n",
       "  function register_renderer(events, OutputArea) {\n",
       "\n",
       "    function append_mime(data, metadata, element) {\n",
       "      // create a DOM node to render to\n",
       "      var toinsert = this.create_output_subarea(\n",
       "        metadata,\n",
       "        CLASS_NAME,\n",
       "        EXEC_MIME_TYPE\n",
       "      );\n",
       "      this.keyboard_manager.register_events(toinsert);\n",
       "      // Render to node\n",
       "      var props = {data: data, metadata: metadata[EXEC_MIME_TYPE]};\n",
       "      render(props, toinsert[toinsert.length - 1]);\n",
       "      element.append(toinsert);\n",
       "      return toinsert\n",
       "    }\n",
       "\n",
       "    /* Handle when an output is cleared or removed */\n",
       "    events.on('clear_output.CodeCell', handleClearOutput);\n",
       "    events.on('delete.Cell', handleClearOutput);\n",
       "\n",
       "    /* Handle when a new output is added */\n",
       "    events.on('output_added.OutputArea', handleAddOutput);\n",
       "\n",
       "    /**\n",
       "     * Register the mime type and append_mime function with output_area\n",
       "     */\n",
       "    OutputArea.prototype.register_mime_type(EXEC_MIME_TYPE, append_mime, {\n",
       "      /* Is output safe? */\n",
       "      safe: true,\n",
       "      /* Index of renderer in `output_area.display_order` */\n",
       "      index: 0\n",
       "    });\n",
       "  }\n",
       "\n",
       "  // register the mime type if in Jupyter Notebook environment and previously unregistered\n",
       "  if (root.Jupyter !== undefined) {\n",
       "    var events = require('base/js/events');\n",
       "    var OutputArea = require('notebook/js/outputarea').OutputArea;\n",
       "\n",
       "    if (OutputArea.prototype.mime_types().indexOf(EXEC_MIME_TYPE) == -1) {\n",
       "      register_renderer(events, OutputArea);\n",
       "    }\n",
       "  }\n",
       "\n",
       "  \n",
       "  if (typeof (root._bokeh_timeout) === \"undefined\" || force === true) {\n",
       "    root._bokeh_timeout = Date.now() + 5000;\n",
       "    root._bokeh_failed_load = false;\n",
       "  }\n",
       "\n",
       "  var NB_LOAD_WARNING = {'data': {'text/html':\n",
       "     \"<div style='background-color: #fdd'>\\n\"+\n",
       "     \"<p>\\n\"+\n",
       "     \"BokehJS does not appear to have successfully loaded. If loading BokehJS from CDN, this \\n\"+\n",
       "     \"may be due to a slow or bad network connection. Possible fixes:\\n\"+\n",
       "     \"</p>\\n\"+\n",
       "     \"<ul>\\n\"+\n",
       "     \"<li>re-rerun `output_notebook()` to attempt to load from CDN again, or</li>\\n\"+\n",
       "     \"<li>use INLINE resources instead, as so:</li>\\n\"+\n",
       "     \"</ul>\\n\"+\n",
       "     \"<code>\\n\"+\n",
       "     \"from bokeh.resources import INLINE\\n\"+\n",
       "     \"output_notebook(resources=INLINE)\\n\"+\n",
       "     \"</code>\\n\"+\n",
       "     \"</div>\"}};\n",
       "\n",
       "  function display_loaded() {\n",
       "    var el = document.getElementById(\"1681\");\n",
       "    if (el != null) {\n",
       "      el.textContent = \"BokehJS is loading...\";\n",
       "    }\n",
       "    if (root.Bokeh !== undefined) {\n",
       "      if (el != null) {\n",
       "        el.textContent = \"BokehJS \" + root.Bokeh.version + \" successfully loaded.\";\n",
       "      }\n",
       "    } else if (Date.now() < root._bokeh_timeout) {\n",
       "      setTimeout(display_loaded, 100)\n",
       "    }\n",
       "  }\n",
       "\n",
       "\n",
       "  function run_callbacks() {\n",
       "    try {\n",
       "      root._bokeh_onload_callbacks.forEach(function(callback) {\n",
       "        if (callback != null)\n",
       "          callback();\n",
       "      });\n",
       "    } finally {\n",
       "      delete root._bokeh_onload_callbacks\n",
       "    }\n",
       "    console.debug(\"Bokeh: all callbacks have finished\");\n",
       "  }\n",
       "\n",
       "  function load_libs(css_urls, js_urls, callback) {\n",
       "    if (css_urls == null) css_urls = [];\n",
       "    if (js_urls == null) js_urls = [];\n",
       "\n",
       "    root._bokeh_onload_callbacks.push(callback);\n",
       "    if (root._bokeh_is_loading > 0) {\n",
       "      console.debug(\"Bokeh: BokehJS is being loaded, scheduling callback at\", now());\n",
       "      return null;\n",
       "    }\n",
       "    if (js_urls == null || js_urls.length === 0) {\n",
       "      run_callbacks();\n",
       "      return null;\n",
       "    }\n",
       "    console.debug(\"Bokeh: BokehJS not loaded, scheduling load and callback at\", now());\n",
       "    root._bokeh_is_loading = css_urls.length + js_urls.length;\n",
       "\n",
       "    function on_load() {\n",
       "      root._bokeh_is_loading--;\n",
       "      if (root._bokeh_is_loading === 0) {\n",
       "        console.debug(\"Bokeh: all BokehJS libraries/stylesheets loaded\");\n",
       "        run_callbacks()\n",
       "      }\n",
       "    }\n",
       "\n",
       "    function on_error() {\n",
       "      console.error(\"failed to load \" + url);\n",
       "    }\n",
       "\n",
       "    for (var i = 0; i < css_urls.length; i++) {\n",
       "      var url = css_urls[i];\n",
       "      const element = document.createElement(\"link\");\n",
       "      element.onload = on_load;\n",
       "      element.onerror = on_error;\n",
       "      element.rel = \"stylesheet\";\n",
       "      element.type = \"text/css\";\n",
       "      element.href = url;\n",
       "      console.debug(\"Bokeh: injecting link tag for BokehJS stylesheet: \", url);\n",
       "      document.body.appendChild(element);\n",
       "    }\n",
       "\n",
       "    for (var i = 0; i < js_urls.length; i++) {\n",
       "      var url = js_urls[i];\n",
       "      var element = document.createElement('script');\n",
       "      element.onload = on_load;\n",
       "      element.onerror = on_error;\n",
       "      element.async = false;\n",
       "      element.src = url;\n",
       "      console.debug(\"Bokeh: injecting script tag for BokehJS library: \", url);\n",
       "      document.head.appendChild(element);\n",
       "    }\n",
       "  };var element = document.getElementById(\"1681\");\n",
       "  if (element == null) {\n",
       "    console.error(\"Bokeh: ERROR: autoload.js configured with elementid '1681' but no matching script tag was found. \")\n",
       "    return false;\n",
       "  }\n",
       "\n",
       "  function inject_raw_css(css) {\n",
       "    const element = document.createElement(\"style\");\n",
       "    element.appendChild(document.createTextNode(css));\n",
       "    document.body.appendChild(element);\n",
       "  }\n",
       "\n",
       "  \n",
       "  var js_urls = [\"https://cdn.pydata.org/bokeh/release/bokeh-1.4.0.min.js\", \"https://cdn.pydata.org/bokeh/release/bokeh-widgets-1.4.0.min.js\", \"https://cdn.pydata.org/bokeh/release/bokeh-tables-1.4.0.min.js\", \"https://cdn.pydata.org/bokeh/release/bokeh-gl-1.4.0.min.js\"];\n",
       "  var css_urls = [];\n",
       "  \n",
       "\n",
       "  var inline_js = [\n",
       "    function(Bokeh) {\n",
       "      Bokeh.set_log_level(\"info\");\n",
       "    },\n",
       "    function(Bokeh) {\n",
       "    \n",
       "    \n",
       "    }\n",
       "  ];\n",
       "\n",
       "  function run_inline_js() {\n",
       "    \n",
       "    if (root.Bokeh !== undefined || force === true) {\n",
       "      \n",
       "    for (var i = 0; i < inline_js.length; i++) {\n",
       "      inline_js[i].call(root, root.Bokeh);\n",
       "    }\n",
       "    if (force === true) {\n",
       "        display_loaded();\n",
       "      }} else if (Date.now() < root._bokeh_timeout) {\n",
       "      setTimeout(run_inline_js, 100);\n",
       "    } else if (!root._bokeh_failed_load) {\n",
       "      console.log(\"Bokeh: BokehJS failed to load within specified timeout.\");\n",
       "      root._bokeh_failed_load = true;\n",
       "    } else if (force !== true) {\n",
       "      var cell = $(document.getElementById(\"1681\")).parents('.cell').data().cell;\n",
       "      cell.output_area.append_execute_result(NB_LOAD_WARNING)\n",
       "    }\n",
       "\n",
       "  }\n",
       "\n",
       "  if (root._bokeh_is_loading === 0) {\n",
       "    console.debug(\"Bokeh: BokehJS loaded, going straight to plotting\");\n",
       "    run_inline_js();\n",
       "  } else {\n",
       "    load_libs(css_urls, js_urls, function() {\n",
       "      console.debug(\"Bokeh: BokehJS plotting callback run at\", now());\n",
       "      run_inline_js();\n",
       "    });\n",
       "  }\n",
       "}(window));"
      ],
      "application/vnd.bokehjs_load.v0+json": "\n(function(root) {\n  function now() {\n    return new Date();\n  }\n\n  var force = true;\n\n  if (typeof root._bokeh_onload_callbacks === \"undefined\" || force === true) {\n    root._bokeh_onload_callbacks = [];\n    root._bokeh_is_loading = undefined;\n  }\n\n  \n\n  \n  if (typeof (root._bokeh_timeout) === \"undefined\" || force === true) {\n    root._bokeh_timeout = Date.now() + 5000;\n    root._bokeh_failed_load = false;\n  }\n\n  var NB_LOAD_WARNING = {'data': {'text/html':\n     \"<div style='background-color: #fdd'>\\n\"+\n     \"<p>\\n\"+\n     \"BokehJS does not appear to have successfully loaded. If loading BokehJS from CDN, this \\n\"+\n     \"may be due to a slow or bad network connection. Possible fixes:\\n\"+\n     \"</p>\\n\"+\n     \"<ul>\\n\"+\n     \"<li>re-rerun `output_notebook()` to attempt to load from CDN again, or</li>\\n\"+\n     \"<li>use INLINE resources instead, as so:</li>\\n\"+\n     \"</ul>\\n\"+\n     \"<code>\\n\"+\n     \"from bokeh.resources import INLINE\\n\"+\n     \"output_notebook(resources=INLINE)\\n\"+\n     \"</code>\\n\"+\n     \"</div>\"}};\n\n  function display_loaded() {\n    var el = document.getElementById(\"1681\");\n    if (el != null) {\n      el.textContent = \"BokehJS is loading...\";\n    }\n    if (root.Bokeh !== undefined) {\n      if (el != null) {\n        el.textContent = \"BokehJS \" + root.Bokeh.version + \" successfully loaded.\";\n      }\n    } else if (Date.now() < root._bokeh_timeout) {\n      setTimeout(display_loaded, 100)\n    }\n  }\n\n\n  function run_callbacks() {\n    try {\n      root._bokeh_onload_callbacks.forEach(function(callback) {\n        if (callback != null)\n          callback();\n      });\n    } finally {\n      delete root._bokeh_onload_callbacks\n    }\n    console.debug(\"Bokeh: all callbacks have finished\");\n  }\n\n  function load_libs(css_urls, js_urls, callback) {\n    if (css_urls == null) css_urls = [];\n    if (js_urls == null) js_urls = [];\n\n    root._bokeh_onload_callbacks.push(callback);\n    if (root._bokeh_is_loading > 0) {\n      console.debug(\"Bokeh: BokehJS is being loaded, scheduling callback at\", now());\n      return null;\n    }\n    if (js_urls == null || js_urls.length === 0) {\n      run_callbacks();\n      return null;\n    }\n    console.debug(\"Bokeh: BokehJS not loaded, scheduling load and callback at\", now());\n    root._bokeh_is_loading = css_urls.length + js_urls.length;\n\n    function on_load() {\n      root._bokeh_is_loading--;\n      if (root._bokeh_is_loading === 0) {\n        console.debug(\"Bokeh: all BokehJS libraries/stylesheets loaded\");\n        run_callbacks()\n      }\n    }\n\n    function on_error() {\n      console.error(\"failed to load \" + url);\n    }\n\n    for (var i = 0; i < css_urls.length; i++) {\n      var url = css_urls[i];\n      const element = document.createElement(\"link\");\n      element.onload = on_load;\n      element.onerror = on_error;\n      element.rel = \"stylesheet\";\n      element.type = \"text/css\";\n      element.href = url;\n      console.debug(\"Bokeh: injecting link tag for BokehJS stylesheet: \", url);\n      document.body.appendChild(element);\n    }\n\n    for (var i = 0; i < js_urls.length; i++) {\n      var url = js_urls[i];\n      var element = document.createElement('script');\n      element.onload = on_load;\n      element.onerror = on_error;\n      element.async = false;\n      element.src = url;\n      console.debug(\"Bokeh: injecting script tag for BokehJS library: \", url);\n      document.head.appendChild(element);\n    }\n  };var element = document.getElementById(\"1681\");\n  if (element == null) {\n    console.error(\"Bokeh: ERROR: autoload.js configured with elementid '1681' but no matching script tag was found. \")\n    return false;\n  }\n\n  function inject_raw_css(css) {\n    const element = document.createElement(\"style\");\n    element.appendChild(document.createTextNode(css));\n    document.body.appendChild(element);\n  }\n\n  \n  var js_urls = [\"https://cdn.pydata.org/bokeh/release/bokeh-1.4.0.min.js\", \"https://cdn.pydata.org/bokeh/release/bokeh-widgets-1.4.0.min.js\", \"https://cdn.pydata.org/bokeh/release/bokeh-tables-1.4.0.min.js\", \"https://cdn.pydata.org/bokeh/release/bokeh-gl-1.4.0.min.js\"];\n  var css_urls = [];\n  \n\n  var inline_js = [\n    function(Bokeh) {\n      Bokeh.set_log_level(\"info\");\n    },\n    function(Bokeh) {\n    \n    \n    }\n  ];\n\n  function run_inline_js() {\n    \n    if (root.Bokeh !== undefined || force === true) {\n      \n    for (var i = 0; i < inline_js.length; i++) {\n      inline_js[i].call(root, root.Bokeh);\n    }\n    if (force === true) {\n        display_loaded();\n      }} else if (Date.now() < root._bokeh_timeout) {\n      setTimeout(run_inline_js, 100);\n    } else if (!root._bokeh_failed_load) {\n      console.log(\"Bokeh: BokehJS failed to load within specified timeout.\");\n      root._bokeh_failed_load = true;\n    } else if (force !== true) {\n      var cell = $(document.getElementById(\"1681\")).parents('.cell').data().cell;\n      cell.output_area.append_execute_result(NB_LOAD_WARNING)\n    }\n\n  }\n\n  if (root._bokeh_is_loading === 0) {\n    console.debug(\"Bokeh: BokehJS loaded, going straight to plotting\");\n    run_inline_js();\n  } else {\n    load_libs(css_urls, js_urls, function() {\n      console.debug(\"Bokeh: BokehJS plotting callback run at\", now());\n      run_inline_js();\n    });\n  }\n}(window));"
     },
     "metadata": {},
     "output_type": "display_data"
    }
   ],
   "source": [
    "# importing the necessary dependencies\n",
    "import pandas as pd\n",
    "from bokeh.plotting import figure, show\n",
    "from bokeh.io import output_notebook\n",
    "\n",
    "output_notebook()"
   ]
  },
  {
   "cell_type": "code",
   "execution_count": 11,
   "metadata": {},
   "outputs": [],
   "source": [
    "# loading the Dataset with pandas\n",
    "dataset = pd.read_csv('../../Datasets/computer_hardware.csv')"
   ]
  },
  {
   "cell_type": "code",
   "execution_count": 12,
   "metadata": {},
   "outputs": [
    {
     "data": {
      "text/html": [
       "<div>\n",
       "<style scoped>\n",
       "    .dataframe tbody tr th:only-of-type {\n",
       "        vertical-align: middle;\n",
       "    }\n",
       "\n",
       "    .dataframe tbody tr th {\n",
       "        vertical-align: top;\n",
       "    }\n",
       "\n",
       "    .dataframe thead th {\n",
       "        text-align: right;\n",
       "    }\n",
       "</style>\n",
       "<table border=\"1\" class=\"dataframe\">\n",
       "  <thead>\n",
       "    <tr style=\"text-align: right;\">\n",
       "      <th></th>\n",
       "      <th>vendor_name</th>\n",
       "      <th>model</th>\n",
       "      <th>myct</th>\n",
       "      <th>mmin</th>\n",
       "      <th>mmax</th>\n",
       "      <th>cach</th>\n",
       "      <th>chmin</th>\n",
       "      <th>chmax</th>\n",
       "      <th>prp</th>\n",
       "      <th>erp</th>\n",
       "    </tr>\n",
       "  </thead>\n",
       "  <tbody>\n",
       "    <tr>\n",
       "      <th>0</th>\n",
       "      <td>adviser</td>\n",
       "      <td>32/60</td>\n",
       "      <td>125</td>\n",
       "      <td>256</td>\n",
       "      <td>6000</td>\n",
       "      <td>256</td>\n",
       "      <td>16</td>\n",
       "      <td>128</td>\n",
       "      <td>198</td>\n",
       "      <td>199</td>\n",
       "    </tr>\n",
       "    <tr>\n",
       "      <th>1</th>\n",
       "      <td>amdahl</td>\n",
       "      <td>470v/7</td>\n",
       "      <td>29</td>\n",
       "      <td>8000</td>\n",
       "      <td>32000</td>\n",
       "      <td>32</td>\n",
       "      <td>8</td>\n",
       "      <td>32</td>\n",
       "      <td>269</td>\n",
       "      <td>253</td>\n",
       "    </tr>\n",
       "    <tr>\n",
       "      <th>2</th>\n",
       "      <td>amdahl</td>\n",
       "      <td>470v/7a</td>\n",
       "      <td>29</td>\n",
       "      <td>8000</td>\n",
       "      <td>32000</td>\n",
       "      <td>32</td>\n",
       "      <td>8</td>\n",
       "      <td>32</td>\n",
       "      <td>220</td>\n",
       "      <td>253</td>\n",
       "    </tr>\n",
       "    <tr>\n",
       "      <th>3</th>\n",
       "      <td>amdahl</td>\n",
       "      <td>470v/7b</td>\n",
       "      <td>29</td>\n",
       "      <td>8000</td>\n",
       "      <td>32000</td>\n",
       "      <td>32</td>\n",
       "      <td>8</td>\n",
       "      <td>32</td>\n",
       "      <td>172</td>\n",
       "      <td>253</td>\n",
       "    </tr>\n",
       "    <tr>\n",
       "      <th>4</th>\n",
       "      <td>amdahl</td>\n",
       "      <td>470v/7c</td>\n",
       "      <td>29</td>\n",
       "      <td>8000</td>\n",
       "      <td>16000</td>\n",
       "      <td>32</td>\n",
       "      <td>8</td>\n",
       "      <td>16</td>\n",
       "      <td>132</td>\n",
       "      <td>132</td>\n",
       "    </tr>\n",
       "  </tbody>\n",
       "</table>\n",
       "</div>"
      ],
      "text/plain": [
       "  vendor_name    model  myct  mmin   mmax  cach  chmin  chmax  prp  erp\n",
       "0     adviser    32/60   125   256   6000   256     16    128  198  199\n",
       "1      amdahl   470v/7    29  8000  32000    32      8     32  269  253\n",
       "2      amdahl  470v/7a    29  8000  32000    32      8     32  220  253\n",
       "3      amdahl  470v/7b    29  8000  32000    32      8     32  172  253\n",
       "4      amdahl  470v/7c    29  8000  16000    32      8     16  132  132"
      ]
     },
     "execution_count": 12,
     "metadata": {},
     "output_type": "execute_result"
    }
   ],
   "source": [
    "# looking at the dataset\n",
    "dataset.head()"
   ]
  },
  {
   "cell_type": "markdown",
   "metadata": {},
   "source": [
    "Our example dataset contains:\n",
    "\n",
    "- `vendor_name`: Name of the vendor\n",
    "- `model`: model id\n",
    "- `myct`: machine cycle time in nanoseconds\n",
    "- `mmin`: minimum main memory in kilobytes\n",
    "- `mmax`: maximum main memory in kilobytes\n",
    "- `cach`: cache memory in kilobytes\n",
    "- `chmin`: minimum channels in units\n",
    "- `chmax`: maximum channels in units\n",
    "- `prp`: published relative performance\n",
    "- `erp`: estimated relative performance from the original article"
   ]
  },
  {
   "cell_type": "markdown",
   "metadata": {},
   "source": [
    "---"
   ]
  },
  {
   "cell_type": "markdown",
   "metadata": {},
   "source": [
    "### Simple Figure with a line"
   ]
  },
  {
   "cell_type": "markdown",
   "metadata": {},
   "source": [
    "Basic plotting with lines, circles, etc. is a simple task when using Bokeh.   \n",
    "By calling the `line` method of a given figure, we can add a line based on x and y coordinates in our visualization."
   ]
  },
  {
   "cell_type": "markdown",
   "metadata": {},
   "source": [
    "**Note**:   \n",
    "If we simply want to plot our entries with the given index, we can create a new column and assign the dataset index in order to nicely access it."
   ]
  },
  {
   "cell_type": "code",
   "execution_count": 13,
   "metadata": {},
   "outputs": [],
   "source": [
    "# adding an index column to use it for the x-axis\n",
    "dataset['index'] = dataset.index"
   ]
  },
  {
   "cell_type": "code",
   "execution_count": 14,
   "metadata": {},
   "outputs": [
    {
     "data": {
      "text/html": [
       "\n",
       "\n",
       "\n",
       "\n",
       "\n",
       "\n",
       "  <div class=\"bk-root\" id=\"a6c620de-dbee-4c93-9109-8900985bacea\" data-root-id=\"1682\"></div>\n"
      ]
     },
     "metadata": {},
     "output_type": "display_data"
    },
    {
     "data": {
      "application/javascript": [
       "(function(root) {\n",
       "  function embed_document(root) {\n",
       "    \n",
       "  var docs_json = {\"1e0fa481-e197-4731-bfb1-b1b2c5eb9f4c\":{\"roots\":{\"references\":[{\"attributes\":{\"below\":[{\"id\":\"1693\",\"type\":\"LinearAxis\"}],\"center\":[{\"id\":\"1697\",\"type\":\"Grid\"},{\"id\":\"1702\",\"type\":\"Grid\"}],\"left\":[{\"id\":\"1698\",\"type\":\"LinearAxis\"}],\"renderers\":[{\"id\":\"1719\",\"type\":\"GlyphRenderer\"}],\"title\":{\"id\":\"1683\",\"type\":\"Title\"},\"toolbar\":{\"id\":\"1709\",\"type\":\"Toolbar\"},\"x_range\":{\"id\":\"1685\",\"type\":\"DataRange1d\"},\"x_scale\":{\"id\":\"1689\",\"type\":\"LinearScale\"},\"y_range\":{\"id\":\"1687\",\"type\":\"DataRange1d\"},\"y_scale\":{\"id\":\"1691\",\"type\":\"LinearScale\"}},\"id\":\"1682\",\"subtype\":\"Figure\",\"type\":\"Plot\"},{\"attributes\":{\"text\":\"Cache per Hardware\"},\"id\":\"1683\",\"type\":\"Title\"},{\"attributes\":{\"axis_label\":\"Cache Memory\",\"formatter\":{\"id\":\"1771\",\"type\":\"BasicTickFormatter\"},\"ticker\":{\"id\":\"1699\",\"type\":\"BasicTicker\"}},\"id\":\"1698\",\"type\":\"LinearAxis\"},{\"attributes\":{},\"id\":\"1699\",\"type\":\"BasicTicker\"},{\"attributes\":{\"dimension\":1,\"ticker\":{\"id\":\"1699\",\"type\":\"BasicTicker\"}},\"id\":\"1702\",\"type\":\"Grid\"},{\"attributes\":{\"line_color\":\"#1f77b4\",\"line_width\":5,\"x\":{\"field\":\"x\"},\"y\":{\"field\":\"y\"}},\"id\":\"1717\",\"type\":\"Line\"},{\"attributes\":{},\"id\":\"1773\",\"type\":\"UnionRenderers\"},{\"attributes\":{\"data_source\":{\"id\":\"1716\",\"type\":\"ColumnDataSource\"},\"glyph\":{\"id\":\"1717\",\"type\":\"Line\"},\"hover_glyph\":null,\"muted_glyph\":null,\"nonselection_glyph\":{\"id\":\"1718\",\"type\":\"Line\"},\"selection_glyph\":null,\"view\":{\"id\":\"1720\",\"type\":\"CDSView\"}},\"id\":\"1719\",\"type\":\"GlyphRenderer\"},{\"attributes\":{},\"id\":\"1703\",\"type\":\"PanTool\"},{\"attributes\":{},\"id\":\"1704\",\"type\":\"WheelZoomTool\"},{\"attributes\":{\"bottom_units\":\"screen\",\"fill_alpha\":{\"value\":0.5},\"fill_color\":{\"value\":\"lightgrey\"},\"left_units\":\"screen\",\"level\":\"overlay\",\"line_alpha\":{\"value\":1.0},\"line_color\":{\"value\":\"black\"},\"line_dash\":[4,4],\"line_width\":{\"value\":2},\"render_mode\":\"css\",\"right_units\":\"screen\",\"top_units\":\"screen\"},\"id\":\"1772\",\"type\":\"BoxAnnotation\"},{\"attributes\":{\"overlay\":{\"id\":\"1772\",\"type\":\"BoxAnnotation\"}},\"id\":\"1705\",\"type\":\"BoxZoomTool\"},{\"attributes\":{},\"id\":\"1769\",\"type\":\"BasicTickFormatter\"},{\"attributes\":{\"axis_label\":\"Hardware index\",\"formatter\":{\"id\":\"1769\",\"type\":\"BasicTickFormatter\"},\"ticker\":{\"id\":\"1694\",\"type\":\"BasicTicker\"}},\"id\":\"1693\",\"type\":\"LinearAxis\"},{\"attributes\":{},\"id\":\"1706\",\"type\":\"SaveTool\"},{\"attributes\":{\"line_alpha\":0.1,\"line_color\":\"#1f77b4\",\"line_width\":5,\"x\":{\"field\":\"x\"},\"y\":{\"field\":\"y\"}},\"id\":\"1718\",\"type\":\"Line\"},{\"attributes\":{},\"id\":\"1771\",\"type\":\"BasicTickFormatter\"},{\"attributes\":{},\"id\":\"1707\",\"type\":\"ResetTool\"},{\"attributes\":{},\"id\":\"1694\",\"type\":\"BasicTicker\"},{\"attributes\":{},\"id\":\"1774\",\"type\":\"Selection\"},{\"attributes\":{\"ticker\":{\"id\":\"1694\",\"type\":\"BasicTicker\"}},\"id\":\"1697\",\"type\":\"Grid\"},{\"attributes\":{\"active_drag\":\"auto\",\"active_inspect\":\"auto\",\"active_multi\":null,\"active_scroll\":\"auto\",\"active_tap\":\"auto\",\"tools\":[{\"id\":\"1703\",\"type\":\"PanTool\"},{\"id\":\"1704\",\"type\":\"WheelZoomTool\"},{\"id\":\"1705\",\"type\":\"BoxZoomTool\"},{\"id\":\"1706\",\"type\":\"SaveTool\"},{\"id\":\"1707\",\"type\":\"ResetTool\"},{\"id\":\"1708\",\"type\":\"HelpTool\"}]},\"id\":\"1709\",\"type\":\"Toolbar\"},{\"attributes\":{\"callback\":null,\"data\":{\"x\":[0,1,2,3,4,5,6,7,8,9,10,11,12,13,14,15,16,17,18,19,20,21,22,23,24,25,26,27,28,29,30,31,32,33,34,35,36,37,38,39,40,41,42,43,44,45,46,47,48,49,50,51,52,53,54,55,56,57,58,59,60,61,62,63,64,65,66,67,68,69,70,71,72,73,74,75,76,77,78,79,80,81,82,83,84,85,86,87,88,89,90,91,92,93,94,95,96,97,98,99,100,101,102,103,104,105,106,107,108,109,110,111,112,113,114,115,116,117,118,119,120,121,122,123,124,125,126,127,128,129,130,131,132,133,134,135,136,137,138,139,140,141,142,143,144,145,146,147,148,149,150,151,152,153,154,155,156,157,158,159,160,161,162,163,164,165,166,167,168,169,170,171,172,173,174,175,176,177,178,179,180,181,182,183,184,185,186,187,188,189,190,191,192,193,194,195,196,197,198,199,200,201,202,203,204,205,206,207,208],\"y\":[256,32,32,32,32,64,64,64,64,128,0,4,65,65,0,0,8,0,0,142,0,0,0,0,0,4,0,4,4,4,131,131,30,30,30,30,8,8,8,8,8,8,8,8,9,9,8,0,4,8,0,0,16,0,16,16,16,0,0,0,0,0,0,64,64,128,0,0,0,8,8,8,0,0,6,6,0,6,6,6,0,8,8,0,0,0,0,8,32,32,32,32,8,1,64,64,64,0,0,0,0,16,0,0,0,0,0,0,0,4,8,0,8,8,8,16,16,2,8,16,8,32,0,0,0,0,8,8,24,24,48,0,24,24,12,24,24,0,16,2,32,32,4,16,32,64,64,64,64,16,32,64,64,128,32,64,256,0,0,0,0,0,0,0,0,32,32,64,160,128,0,0,64,0,0,1,2,2,8,16,32,8,8,8,16,16,32,8,32,64,32,64,128,32,24,48,112,112,96,128,0,0,0,0,0,32,0,32,0]},\"selected\":{\"id\":\"1774\",\"type\":\"Selection\"},\"selection_policy\":{\"id\":\"1773\",\"type\":\"UnionRenderers\"}},\"id\":\"1716\",\"type\":\"ColumnDataSource\"},{\"attributes\":{\"callback\":null},\"id\":\"1685\",\"type\":\"DataRange1d\"},{\"attributes\":{\"source\":{\"id\":\"1716\",\"type\":\"ColumnDataSource\"}},\"id\":\"1720\",\"type\":\"CDSView\"},{\"attributes\":{\"callback\":null},\"id\":\"1687\",\"type\":\"DataRange1d\"},{\"attributes\":{},\"id\":\"1708\",\"type\":\"HelpTool\"},{\"attributes\":{},\"id\":\"1689\",\"type\":\"LinearScale\"},{\"attributes\":{},\"id\":\"1691\",\"type\":\"LinearScale\"}],\"root_ids\":[\"1682\"]},\"title\":\"Bokeh Application\",\"version\":\"1.4.0\"}};\n",
       "  var render_items = [{\"docid\":\"1e0fa481-e197-4731-bfb1-b1b2c5eb9f4c\",\"roots\":{\"1682\":\"a6c620de-dbee-4c93-9109-8900985bacea\"}}];\n",
       "  root.Bokeh.embed.embed_items_notebook(docs_json, render_items);\n",
       "\n",
       "  }\n",
       "  if (root.Bokeh !== undefined) {\n",
       "    embed_document(root);\n",
       "  } else {\n",
       "    var attempts = 0;\n",
       "    var timer = setInterval(function(root) {\n",
       "      if (root.Bokeh !== undefined) {\n",
       "        clearInterval(timer);\n",
       "        embed_document(root);\n",
       "      } else {\n",
       "        attempts++;\n",
       "        if (attempts > 100) {\n",
       "          clearInterval(timer);\n",
       "          console.log(\"Bokeh: ERROR: Unable to run BokehJS code because BokehJS library is missing\");\n",
       "        }\n",
       "      }\n",
       "    }, 10, root)\n",
       "  }\n",
       "})(window);"
      ],
      "application/vnd.bokehjs_exec.v0+json": ""
     },
     "metadata": {
      "application/vnd.bokehjs_exec.v0+json": {
       "id": "1682"
      }
     },
     "output_type": "display_data"
    }
   ],
   "source": [
    "# plotting the cache memory levels as line\n",
    "plot = figure(title='Cache per Hardware', x_axis_label='Hardware index', y_axis_label='Cache Memory')\n",
    "plot.line(dataset['index'], dataset['cach'], line_width=5)\n",
    "\n",
    "show(plot)"
   ]
  },
  {
   "cell_type": "markdown",
   "metadata": {},
   "source": [
    "### Scatter plot"
   ]
  },
  {
   "cell_type": "markdown",
   "metadata": {},
   "source": [
    "Scatter plots can be used the same as line plots. It always depends on the scenario and data we are looking at which one should be used.   \n",
    "Please refer back to the second chapter about different plots and data for this information."
   ]
  },
  {
   "cell_type": "code",
   "execution_count": 17,
   "metadata": {},
   "outputs": [
    {
     "data": {
      "text/html": [
       "\n",
       "\n",
       "\n",
       "\n",
       "\n",
       "\n",
       "  <div class=\"bk-root\" id=\"84edd675-721b-4871-bf22-d1431f357f2c\" data-root-id=\"2205\"></div>\n"
      ]
     },
     "metadata": {},
     "output_type": "display_data"
    },
    {
     "data": {
      "application/javascript": [
       "(function(root) {\n",
       "  function embed_document(root) {\n",
       "    \n",
       "  var docs_json = {\"066b3f9d-f648-4be9-8107-a6a2764204c3\":{\"roots\":{\"references\":[{\"attributes\":{\"below\":[{\"id\":\"2216\",\"type\":\"LinearAxis\"}],\"center\":[{\"id\":\"2220\",\"type\":\"Grid\"},{\"id\":\"2225\",\"type\":\"Grid\"}],\"left\":[{\"id\":\"2221\",\"type\":\"LinearAxis\"}],\"renderers\":[{\"id\":\"2242\",\"type\":\"GlyphRenderer\"}],\"title\":{\"id\":\"2206\",\"type\":\"Title\"},\"toolbar\":{\"id\":\"2232\",\"type\":\"Toolbar\"},\"x_range\":{\"id\":\"2208\",\"type\":\"DataRange1d\"},\"x_scale\":{\"id\":\"2212\",\"type\":\"LinearScale\"},\"y_range\":{\"id\":\"2210\",\"type\":\"DataRange1d\"},\"y_scale\":{\"id\":\"2214\",\"type\":\"LinearScale\"}},\"id\":\"2205\",\"subtype\":\"Figure\",\"type\":\"Plot\"},{\"attributes\":{\"text\":\"Cache per Hardware\"},\"id\":\"2206\",\"type\":\"Title\"},{\"attributes\":{\"overlay\":{\"id\":\"2323\",\"type\":\"BoxAnnotation\"}},\"id\":\"2228\",\"type\":\"BoxZoomTool\"},{\"attributes\":{\"callback\":null},\"id\":\"2210\",\"type\":\"DataRange1d\"},{\"attributes\":{},\"id\":\"2229\",\"type\":\"SaveTool\"},{\"attributes\":{},\"id\":\"2230\",\"type\":\"ResetTool\"},{\"attributes\":{},\"id\":\"2227\",\"type\":\"WheelZoomTool\"},{\"attributes\":{},\"id\":\"2231\",\"type\":\"HelpTool\"},{\"attributes\":{\"active_drag\":\"auto\",\"active_inspect\":\"auto\",\"active_multi\":null,\"active_scroll\":\"auto\",\"active_tap\":\"auto\",\"tools\":[{\"id\":\"2226\",\"type\":\"PanTool\"},{\"id\":\"2227\",\"type\":\"WheelZoomTool\"},{\"id\":\"2228\",\"type\":\"BoxZoomTool\"},{\"id\":\"2229\",\"type\":\"SaveTool\"},{\"id\":\"2230\",\"type\":\"ResetTool\"},{\"id\":\"2231\",\"type\":\"HelpTool\"}]},\"id\":\"2232\",\"type\":\"Toolbar\"},{\"attributes\":{\"fill_alpha\":{\"value\":0.1},\"fill_color\":{\"value\":\"#1f77b4\"},\"line_alpha\":{\"value\":0.1},\"line_color\":{\"value\":\"#1f77b4\"},\"size\":{\"units\":\"screen\",\"value\":5},\"x\":{\"field\":\"x\"},\"y\":{\"field\":\"y\"}},\"id\":\"2241\",\"type\":\"Scatter\"},{\"attributes\":{},\"id\":\"2212\",\"type\":\"LinearScale\"},{\"attributes\":{\"data_source\":{\"id\":\"2239\",\"type\":\"ColumnDataSource\"},\"glyph\":{\"id\":\"2240\",\"type\":\"Scatter\"},\"hover_glyph\":null,\"muted_glyph\":null,\"nonselection_glyph\":{\"id\":\"2241\",\"type\":\"Scatter\"},\"selection_glyph\":null,\"view\":{\"id\":\"2243\",\"type\":\"CDSView\"}},\"id\":\"2242\",\"type\":\"GlyphRenderer\"},{\"attributes\":{\"callback\":null},\"id\":\"2208\",\"type\":\"DataRange1d\"},{\"attributes\":{\"source\":{\"id\":\"2239\",\"type\":\"ColumnDataSource\"}},\"id\":\"2243\",\"type\":\"CDSView\"},{\"attributes\":{\"axis_label\":\"Cache Memory\",\"formatter\":{\"id\":\"2322\",\"type\":\"BasicTickFormatter\"},\"ticker\":{\"id\":\"2222\",\"type\":\"BasicTicker\"}},\"id\":\"2221\",\"type\":\"LinearAxis\"},{\"attributes\":{\"ticker\":{\"id\":\"2217\",\"type\":\"BasicTicker\"}},\"id\":\"2220\",\"type\":\"Grid\"},{\"attributes\":{},\"id\":\"2322\",\"type\":\"BasicTickFormatter\"},{\"attributes\":{\"bottom_units\":\"screen\",\"fill_alpha\":{\"value\":0.5},\"fill_color\":{\"value\":\"lightgrey\"},\"left_units\":\"screen\",\"level\":\"overlay\",\"line_alpha\":{\"value\":1.0},\"line_color\":{\"value\":\"black\"},\"line_dash\":[4,4],\"line_width\":{\"value\":2},\"render_mode\":\"css\",\"right_units\":\"screen\",\"top_units\":\"screen\"},\"id\":\"2323\",\"type\":\"BoxAnnotation\"},{\"attributes\":{},\"id\":\"2222\",\"type\":\"BasicTicker\"},{\"attributes\":{},\"id\":\"2324\",\"type\":\"UnionRenderers\"},{\"attributes\":{},\"id\":\"2325\",\"type\":\"Selection\"},{\"attributes\":{},\"id\":\"2214\",\"type\":\"LinearScale\"},{\"attributes\":{},\"id\":\"2217\",\"type\":\"BasicTicker\"},{\"attributes\":{\"callback\":null,\"data\":{\"x\":[0,1,2,3,4,5,6,7,8,9,10,11,12,13,14,15,16,17,18,19,20,21,22,23,24,25,26,27,28,29,30,31,32,33,34,35,36,37,38,39,40,41,42,43,44,45,46,47,48,49,50,51,52,53,54,55,56,57,58,59,60,61,62,63,64,65,66,67,68,69,70,71,72,73,74,75,76,77,78,79,80,81,82,83,84,85,86,87,88,89,90,91,92,93,94,95,96,97,98,99,100,101,102,103,104,105,106,107,108,109,110,111,112,113,114,115,116,117,118,119,120,121,122,123,124,125,126,127,128,129,130,131,132,133,134,135,136,137,138,139,140,141,142,143,144,145,146,147,148,149,150,151,152,153,154,155,156,157,158,159,160,161,162,163,164,165,166,167,168,169,170,171,172,173,174,175,176,177,178,179,180,181,182,183,184,185,186,187,188,189,190,191,192,193,194,195,196,197,198,199,200,201,202,203,204,205,206,207,208],\"y\":[256,32,32,32,32,64,64,64,64,128,0,4,65,65,0,0,8,0,0,142,0,0,0,0,0,4,0,4,4,4,131,131,30,30,30,30,8,8,8,8,8,8,8,8,9,9,8,0,4,8,0,0,16,0,16,16,16,0,0,0,0,0,0,64,64,128,0,0,0,8,8,8,0,0,6,6,0,6,6,6,0,8,8,0,0,0,0,8,32,32,32,32,8,1,64,64,64,0,0,0,0,16,0,0,0,0,0,0,0,4,8,0,8,8,8,16,16,2,8,16,8,32,0,0,0,0,8,8,24,24,48,0,24,24,12,24,24,0,16,2,32,32,4,16,32,64,64,64,64,16,32,64,64,128,32,64,256,0,0,0,0,0,0,0,0,32,32,64,160,128,0,0,64,0,0,1,2,2,8,16,32,8,8,8,16,16,32,8,32,64,32,64,128,32,24,48,112,112,96,128,0,0,0,0,0,32,0,32,0]},\"selected\":{\"id\":\"2325\",\"type\":\"Selection\"},\"selection_policy\":{\"id\":\"2324\",\"type\":\"UnionRenderers\"}},\"id\":\"2239\",\"type\":\"ColumnDataSource\"},{\"attributes\":{\"axis_label\":\"Hardware\",\"formatter\":{\"id\":\"2320\",\"type\":\"BasicTickFormatter\"},\"ticker\":{\"id\":\"2217\",\"type\":\"BasicTicker\"}},\"id\":\"2216\",\"type\":\"LinearAxis\"},{\"attributes\":{},\"id\":\"2226\",\"type\":\"PanTool\"},{\"attributes\":{},\"id\":\"2320\",\"type\":\"BasicTickFormatter\"},{\"attributes\":{\"fill_color\":{\"value\":\"red\"},\"line_color\":{\"value\":\"red\"},\"size\":{\"units\":\"screen\",\"value\":5},\"x\":{\"field\":\"x\"},\"y\":{\"field\":\"y\"}},\"id\":\"2240\",\"type\":\"Scatter\"},{\"attributes\":{\"dimension\":1,\"ticker\":{\"id\":\"2222\",\"type\":\"BasicTicker\"}},\"id\":\"2225\",\"type\":\"Grid\"}],\"root_ids\":[\"2205\"]},\"title\":\"Bokeh Application\",\"version\":\"1.4.0\"}};\n",
       "  var render_items = [{\"docid\":\"066b3f9d-f648-4be9-8107-a6a2764204c3\",\"roots\":{\"2205\":\"84edd675-721b-4871-bf22-d1431f357f2c\"}}];\n",
       "  root.Bokeh.embed.embed_items_notebook(docs_json, render_items);\n",
       "\n",
       "  }\n",
       "  if (root.Bokeh !== undefined) {\n",
       "    embed_document(root);\n",
       "  } else {\n",
       "    var attempts = 0;\n",
       "    var timer = setInterval(function(root) {\n",
       "      if (root.Bokeh !== undefined) {\n",
       "        clearInterval(timer);\n",
       "        embed_document(root);\n",
       "      } else {\n",
       "        attempts++;\n",
       "        if (attempts > 100) {\n",
       "          clearInterval(timer);\n",
       "          console.log(\"Bokeh: ERROR: Unable to run BokehJS code because BokehJS library is missing\");\n",
       "        }\n",
       "      }\n",
       "    }, 10, root)\n",
       "  }\n",
       "})(window);"
      ],
      "application/vnd.bokehjs_exec.v0+json": ""
     },
     "metadata": {
      "application/vnd.bokehjs_exec.v0+json": {
       "id": "2205"
      }
     },
     "output_type": "display_data"
    }
   ],
   "source": [
    "# plotting the hardware cache as dots\n",
    "plot = figure(title='Cache per Hardware', x_axis_label='Hardware', y_axis_label='Cache Memory')\n",
    "plot.scatter(dataset['index'], dataset['cach'], size=5, color='red')\n",
    "\n",
    "show(plot)"
   ]
  },
  {
   "cell_type": "markdown",
   "metadata": {},
   "source": [
    "**Note**:   \n",
    "We can provide a `color` argument with one of the pre-defined colors to quickly assign different colors to our plotted glyphs."
   ]
  },
  {
   "cell_type": "markdown",
   "metadata": {},
   "source": [
    "### Adding a legend"
   ]
  },
  {
   "cell_type": "markdown",
   "metadata": {},
   "source": [
    "Legends display a mapping between e.g. lines in the plot and the according information like e.g. the hardware cache memory.\n",
    "\n",
    "By adding a `legend_label` argument to the plot calls like `plot.line()`, we get a small box containing the information at the, by default, upper right corner."
   ]
  },
  {
   "cell_type": "code",
   "execution_count": 15,
   "metadata": {},
   "outputs": [
    {
     "data": {
      "text/html": [
       "\n",
       "\n",
       "\n",
       "\n",
       "\n",
       "\n",
       "  <div class=\"bk-root\" id=\"c439f973-dbae-4f16-bed8-99bf35fcac2a\" data-root-id=\"1823\"></div>\n"
      ]
     },
     "metadata": {},
     "output_type": "display_data"
    },
    {
     "data": {
      "application/javascript": [
       "(function(root) {\n",
       "  function embed_document(root) {\n",
       "    \n",
       "  var docs_json = {\"eb7ef806-0267-4338-a3ab-7c37f8e065ab\":{\"roots\":{\"references\":[{\"attributes\":{\"below\":[{\"id\":\"1834\",\"type\":\"LinearAxis\"}],\"center\":[{\"id\":\"1838\",\"type\":\"Grid\"},{\"id\":\"1843\",\"type\":\"Grid\"},{\"id\":\"1868\",\"type\":\"Legend\"}],\"left\":[{\"id\":\"1839\",\"type\":\"LinearAxis\"}],\"renderers\":[{\"id\":\"1860\",\"type\":\"GlyphRenderer\"},{\"id\":\"1873\",\"type\":\"GlyphRenderer\"}],\"title\":{\"id\":\"1824\",\"type\":\"Title\"},\"toolbar\":{\"id\":\"1850\",\"type\":\"Toolbar\"},\"x_range\":{\"id\":\"1826\",\"type\":\"DataRange1d\"},\"x_scale\":{\"id\":\"1830\",\"type\":\"LinearScale\"},\"y_range\":{\"id\":\"1828\",\"type\":\"DataRange1d\"},\"y_scale\":{\"id\":\"1832\",\"type\":\"LinearScale\"}},\"id\":\"1823\",\"subtype\":\"Figure\",\"type\":\"Plot\"},{\"attributes\":{},\"id\":\"1845\",\"type\":\"WheelZoomTool\"},{\"attributes\":{\"axis_label\":\"Hardware index\",\"formatter\":{\"id\":\"1864\",\"type\":\"BasicTickFormatter\"},\"ticker\":{\"id\":\"1835\",\"type\":\"BasicTicker\"}},\"id\":\"1834\",\"type\":\"LinearAxis\"},{\"attributes\":{},\"id\":\"1844\",\"type\":\"PanTool\"},{\"attributes\":{\"items\":[{\"id\":\"1869\",\"type\":\"LegendItem\"},{\"id\":\"1883\",\"type\":\"LegendItem\"}]},\"id\":\"1868\",\"type\":\"Legend\"},{\"attributes\":{\"callback\":null,\"data\":{\"x\":[0,1,2,3,4,5,6,7,8,9,10,11,12,13,14,15,16,17,18,19,20,21,22,23,24,25,26,27,28,29,30,31,32,33,34,35,36,37,38,39,40,41,42,43,44,45,46,47,48,49,50,51,52,53,54,55,56,57,58,59,60,61,62,63,64,65,66,67,68,69,70,71,72,73,74,75,76,77,78,79,80,81,82,83,84,85,86,87,88,89,90,91,92,93,94,95,96,97,98,99,100,101,102,103,104,105,106,107,108,109,110,111,112,113,114,115,116,117,118,119,120,121,122,123,124,125,126,127,128,129,130,131,132,133,134,135,136,137,138,139,140,141,142,143,144,145,146,147,148,149,150,151,152,153,154,155,156,157,158,159,160,161,162,163,164,165,166,167,168,169,170,171,172,173,174,175,176,177,178,179,180,181,182,183,184,185,186,187,188,189,190,191,192,193,194,195,196,197,198,199,200,201,202,203,204,205,206,207,208],\"y\":[125,29,29,29,29,26,23,23,23,23,400,400,60,50,350,200,167,143,143,110,143,143,143,110,320,320,320,320,320,320,25,25,50,50,56,64,50,50,50,50,50,50,50,50,133,133,810,810,320,200,700,700,140,200,110,110,220,800,800,800,800,800,125,75,75,75,90,105,105,105,75,75,175,300,300,300,300,300,300,180,330,300,300,330,330,140,140,140,140,140,140,140,140,57,57,26,26,26,26,480,203,115,1100,1100,600,400,400,900,900,900,900,900,225,225,180,185,180,225,25,25,17,17,1500,1500,800,50,50,50,50,50,50,100,100,100,50,50,50,150,115,115,92,92,92,75,60,60,60,50,72,72,40,40,35,38,48,38,30,112,84,56,56,56,56,56,56,38,38,38,38,38,200,200,200,250,250,250,160,160,160,160,160,240,240,105,105,105,52,70,59,59,26,26,26,116,50,50,50,50,30,30,180,180,180,180,124,98,125,480,480]},\"selected\":{\"id\":\"1947\",\"type\":\"Selection\"},\"selection_policy\":{\"id\":\"1946\",\"type\":\"UnionRenderers\"}},\"id\":\"1870\",\"type\":\"ColumnDataSource\"},{\"attributes\":{},\"id\":\"1947\",\"type\":\"Selection\"},{\"attributes\":{\"callback\":null},\"id\":\"1826\",\"type\":\"DataRange1d\"},{\"attributes\":{\"overlay\":{\"id\":\"1867\",\"type\":\"BoxAnnotation\"}},\"id\":\"1846\",\"type\":\"BoxZoomTool\"},{\"attributes\":{},\"id\":\"1847\",\"type\":\"SaveTool\"},{\"attributes\":{\"ticker\":{\"id\":\"1835\",\"type\":\"BasicTicker\"}},\"id\":\"1838\",\"type\":\"Grid\"},{\"attributes\":{},\"id\":\"1848\",\"type\":\"ResetTool\"},{\"attributes\":{\"line_alpha\":0.1,\"line_color\":\"#1f77b4\",\"line_width\":5,\"x\":{\"field\":\"x\"},\"y\":{\"field\":\"y\"}},\"id\":\"1859\",\"type\":\"Line\"},{\"attributes\":{\"label\":{\"value\":\"Cycle time in ns\"},\"renderers\":[{\"id\":\"1873\",\"type\":\"GlyphRenderer\"}]},\"id\":\"1883\",\"type\":\"LegendItem\"},{\"attributes\":{\"axis_label\":\"Attribute Value\",\"formatter\":{\"id\":\"1866\",\"type\":\"BasicTickFormatter\"},\"ticker\":{\"id\":\"1840\",\"type\":\"BasicTicker\"}},\"id\":\"1839\",\"type\":\"LinearAxis\"},{\"attributes\":{},\"id\":\"1849\",\"type\":\"HelpTool\"},{\"attributes\":{\"data_source\":{\"id\":\"1857\",\"type\":\"ColumnDataSource\"},\"glyph\":{\"id\":\"1858\",\"type\":\"Line\"},\"hover_glyph\":null,\"muted_glyph\":null,\"nonselection_glyph\":{\"id\":\"1859\",\"type\":\"Line\"},\"selection_glyph\":null,\"view\":{\"id\":\"1861\",\"type\":\"CDSView\"}},\"id\":\"1860\",\"type\":\"GlyphRenderer\"},{\"attributes\":{\"active_drag\":\"auto\",\"active_inspect\":\"auto\",\"active_multi\":null,\"active_scroll\":\"auto\",\"active_tap\":\"auto\",\"tools\":[{\"id\":\"1844\",\"type\":\"PanTool\"},{\"id\":\"1845\",\"type\":\"WheelZoomTool\"},{\"id\":\"1846\",\"type\":\"BoxZoomTool\"},{\"id\":\"1847\",\"type\":\"SaveTool\"},{\"id\":\"1848\",\"type\":\"ResetTool\"},{\"id\":\"1849\",\"type\":\"HelpTool\"}]},\"id\":\"1850\",\"type\":\"Toolbar\"},{\"attributes\":{\"bottom_units\":\"screen\",\"fill_alpha\":{\"value\":0.5},\"fill_color\":{\"value\":\"lightgrey\"},\"left_units\":\"screen\",\"level\":\"overlay\",\"line_alpha\":{\"value\":1.0},\"line_color\":{\"value\":\"black\"},\"line_dash\":[4,4],\"line_width\":{\"value\":2},\"render_mode\":\"css\",\"right_units\":\"screen\",\"top_units\":\"screen\"},\"id\":\"1867\",\"type\":\"BoxAnnotation\"},{\"attributes\":{},\"id\":\"1840\",\"type\":\"BasicTicker\"},{\"attributes\":{},\"id\":\"1830\",\"type\":\"LinearScale\"},{\"attributes\":{},\"id\":\"1835\",\"type\":\"BasicTicker\"},{\"attributes\":{\"source\":{\"id\":\"1857\",\"type\":\"ColumnDataSource\"}},\"id\":\"1861\",\"type\":\"CDSView\"},{\"attributes\":{\"text\":\"Attributes per Hardware\"},\"id\":\"1824\",\"type\":\"Title\"},{\"attributes\":{},\"id\":\"1864\",\"type\":\"BasicTickFormatter\"},{\"attributes\":{},\"id\":\"1832\",\"type\":\"LinearScale\"},{\"attributes\":{\"dimension\":1,\"ticker\":{\"id\":\"1840\",\"type\":\"BasicTicker\"}},\"id\":\"1843\",\"type\":\"Grid\"},{\"attributes\":{},\"id\":\"1866\",\"type\":\"BasicTickFormatter\"},{\"attributes\":{\"line_color\":\"red\",\"line_width\":5,\"x\":{\"field\":\"x\"},\"y\":{\"field\":\"y\"}},\"id\":\"1871\",\"type\":\"Line\"},{\"attributes\":{\"line_alpha\":0.1,\"line_color\":\"#1f77b4\",\"line_width\":5,\"x\":{\"field\":\"x\"},\"y\":{\"field\":\"y\"}},\"id\":\"1872\",\"type\":\"Line\"},{\"attributes\":{\"data_source\":{\"id\":\"1870\",\"type\":\"ColumnDataSource\"},\"glyph\":{\"id\":\"1871\",\"type\":\"Line\"},\"hover_glyph\":null,\"muted_glyph\":null,\"nonselection_glyph\":{\"id\":\"1872\",\"type\":\"Line\"},\"selection_glyph\":null,\"view\":{\"id\":\"1874\",\"type\":\"CDSView\"}},\"id\":\"1873\",\"type\":\"GlyphRenderer\"},{\"attributes\":{\"callback\":null},\"id\":\"1828\",\"type\":\"DataRange1d\"},{\"attributes\":{},\"id\":\"1946\",\"type\":\"UnionRenderers\"},{\"attributes\":{\"source\":{\"id\":\"1870\",\"type\":\"ColumnDataSource\"}},\"id\":\"1874\",\"type\":\"CDSView\"},{\"attributes\":{},\"id\":\"1881\",\"type\":\"UnionRenderers\"},{\"attributes\":{\"label\":{\"value\":\"Cache Memory\"},\"renderers\":[{\"id\":\"1860\",\"type\":\"GlyphRenderer\"}]},\"id\":\"1869\",\"type\":\"LegendItem\"},{\"attributes\":{},\"id\":\"1882\",\"type\":\"Selection\"},{\"attributes\":{\"line_color\":\"#1f77b4\",\"line_width\":5,\"x\":{\"field\":\"x\"},\"y\":{\"field\":\"y\"}},\"id\":\"1858\",\"type\":\"Line\"},{\"attributes\":{\"callback\":null,\"data\":{\"x\":[0,1,2,3,4,5,6,7,8,9,10,11,12,13,14,15,16,17,18,19,20,21,22,23,24,25,26,27,28,29,30,31,32,33,34,35,36,37,38,39,40,41,42,43,44,45,46,47,48,49,50,51,52,53,54,55,56,57,58,59,60,61,62,63,64,65,66,67,68,69,70,71,72,73,74,75,76,77,78,79,80,81,82,83,84,85,86,87,88,89,90,91,92,93,94,95,96,97,98,99,100,101,102,103,104,105,106,107,108,109,110,111,112,113,114,115,116,117,118,119,120,121,122,123,124,125,126,127,128,129,130,131,132,133,134,135,136,137,138,139,140,141,142,143,144,145,146,147,148,149,150,151,152,153,154,155,156,157,158,159,160,161,162,163,164,165,166,167,168,169,170,171,172,173,174,175,176,177,178,179,180,181,182,183,184,185,186,187,188,189,190,191,192,193,194,195,196,197,198,199,200,201,202,203,204,205,206,207,208],\"y\":[256,32,32,32,32,64,64,64,64,128,0,4,65,65,0,0,8,0,0,142,0,0,0,0,0,4,0,4,4,4,131,131,30,30,30,30,8,8,8,8,8,8,8,8,9,9,8,0,4,8,0,0,16,0,16,16,16,0,0,0,0,0,0,64,64,128,0,0,0,8,8,8,0,0,6,6,0,6,6,6,0,8,8,0,0,0,0,8,32,32,32,32,8,1,64,64,64,0,0,0,0,16,0,0,0,0,0,0,0,4,8,0,8,8,8,16,16,2,8,16,8,32,0,0,0,0,8,8,24,24,48,0,24,24,12,24,24,0,16,2,32,32,4,16,32,64,64,64,64,16,32,64,64,128,32,64,256,0,0,0,0,0,0,0,0,32,32,64,160,128,0,0,64,0,0,1,2,2,8,16,32,8,8,8,16,16,32,8,32,64,32,64,128,32,24,48,112,112,96,128,0,0,0,0,0,32,0,32,0]},\"selected\":{\"id\":\"1882\",\"type\":\"Selection\"},\"selection_policy\":{\"id\":\"1881\",\"type\":\"UnionRenderers\"}},\"id\":\"1857\",\"type\":\"ColumnDataSource\"}],\"root_ids\":[\"1823\"]},\"title\":\"Bokeh Application\",\"version\":\"1.4.0\"}};\n",
       "  var render_items = [{\"docid\":\"eb7ef806-0267-4338-a3ab-7c37f8e065ab\",\"roots\":{\"1823\":\"c439f973-dbae-4f16-bed8-99bf35fcac2a\"}}];\n",
       "  root.Bokeh.embed.embed_items_notebook(docs_json, render_items);\n",
       "\n",
       "  }\n",
       "  if (root.Bokeh !== undefined) {\n",
       "    embed_document(root);\n",
       "  } else {\n",
       "    var attempts = 0;\n",
       "    var timer = setInterval(function(root) {\n",
       "      if (root.Bokeh !== undefined) {\n",
       "        clearInterval(timer);\n",
       "        embed_document(root);\n",
       "      } else {\n",
       "        attempts++;\n",
       "        if (attempts > 100) {\n",
       "          clearInterval(timer);\n",
       "          console.log(\"Bokeh: ERROR: Unable to run BokehJS code because BokehJS library is missing\");\n",
       "        }\n",
       "      }\n",
       "    }, 10, root)\n",
       "  }\n",
       "})(window);"
      ],
      "application/vnd.bokehjs_exec.v0+json": ""
     },
     "metadata": {
      "application/vnd.bokehjs_exec.v0+json": {
       "id": "1823"
      }
     },
     "output_type": "display_data"
    }
   ],
   "source": [
    "# plotting cache memory and cycle time with legend\n",
    "plot = figure(title='Attributes per Hardware', x_axis_label='Hardware index', y_axis_label='Attribute Value')\n",
    "plot.line(dataset['index'], dataset['cach'], line_width=5, legend_label='Cache Memory')\n",
    "plot.line(dataset['index'], dataset['myct'], line_width=5, color='red', legend_label='Cycle time in ns')\n",
    "\n",
    "show(plot)"
   ]
  },
  {
   "cell_type": "markdown",
   "metadata": {},
   "source": [
    "### Mutable Legend items "
   ]
  },
  {
   "cell_type": "markdown",
   "metadata": {},
   "source": [
    "When looking at the example from above, we can see that once we have several lines, the visualization can get cluttered.\n",
    "\n",
    "We can give the user the ability to **\"mute\"**, meaning defocus, the clicked element in the legend. \n",
    "\n",
    "Adding a `muted_alpha` argument to the line plotting and adding a `click_policy` of `mute` to our legend element are the only two steps needed."
   ]
  },
  {
   "cell_type": "code",
   "execution_count": 16,
   "metadata": {},
   "outputs": [
    {
     "data": {
      "text/html": [
       "\n",
       "\n",
       "\n",
       "\n",
       "\n",
       "\n",
       "  <div class=\"bk-root\" id=\"3682229a-3da2-4845-a8cb-1a7eb9b0c9c5\" data-root-id=\"2008\"></div>\n"
      ]
     },
     "metadata": {},
     "output_type": "display_data"
    },
    {
     "data": {
      "application/javascript": [
       "(function(root) {\n",
       "  function embed_document(root) {\n",
       "    \n",
       "  var docs_json = {\"069a6886-4f00-40cf-a99a-3c8db24e85da\":{\"roots\":{\"references\":[{\"attributes\":{\"below\":[{\"id\":\"2019\",\"type\":\"LinearAxis\"}],\"center\":[{\"id\":\"2023\",\"type\":\"Grid\"},{\"id\":\"2028\",\"type\":\"Grid\"},{\"id\":\"2054\",\"type\":\"Legend\"}],\"left\":[{\"id\":\"2024\",\"type\":\"LinearAxis\"}],\"renderers\":[{\"id\":\"2046\",\"type\":\"GlyphRenderer\"},{\"id\":\"2060\",\"type\":\"GlyphRenderer\"}],\"title\":{\"id\":\"2009\",\"type\":\"Title\"},\"toolbar\":{\"id\":\"2035\",\"type\":\"Toolbar\"},\"x_range\":{\"id\":\"2011\",\"type\":\"DataRange1d\"},\"x_scale\":{\"id\":\"2015\",\"type\":\"LinearScale\"},\"y_range\":{\"id\":\"2013\",\"type\":\"DataRange1d\"},\"y_scale\":{\"id\":\"2017\",\"type\":\"LinearScale\"}},\"id\":\"2008\",\"subtype\":\"Figure\",\"type\":\"Plot\"},{\"attributes\":{\"source\":{\"id\":\"2042\",\"type\":\"ColumnDataSource\"}},\"id\":\"2047\",\"type\":\"CDSView\"},{\"attributes\":{},\"id\":\"2020\",\"type\":\"BasicTicker\"},{\"attributes\":{},\"id\":\"2050\",\"type\":\"BasicTickFormatter\"},{\"attributes\":{\"line_color\":\"red\",\"line_width\":5,\"x\":{\"field\":\"x\"},\"y\":{\"field\":\"y\"}},\"id\":\"2057\",\"type\":\"Line\"},{\"attributes\":{},\"id\":\"2143\",\"type\":\"UnionRenderers\"},{\"attributes\":{\"ticker\":{\"id\":\"2020\",\"type\":\"BasicTicker\"}},\"id\":\"2023\",\"type\":\"Grid\"},{\"attributes\":{},\"id\":\"2052\",\"type\":\"BasicTickFormatter\"},{\"attributes\":{\"bottom_units\":\"screen\",\"fill_alpha\":{\"value\":0.5},\"fill_color\":{\"value\":\"lightgrey\"},\"left_units\":\"screen\",\"level\":\"overlay\",\"line_alpha\":{\"value\":1.0},\"line_color\":{\"value\":\"black\"},\"line_dash\":[4,4],\"line_width\":{\"value\":2},\"render_mode\":\"css\",\"right_units\":\"screen\",\"top_units\":\"screen\"},\"id\":\"2053\",\"type\":\"BoxAnnotation\"},{\"attributes\":{},\"id\":\"2017\",\"type\":\"LinearScale\"},{\"attributes\":{\"click_policy\":\"mute\",\"items\":[{\"id\":\"2055\",\"type\":\"LegendItem\"},{\"id\":\"2070\",\"type\":\"LegendItem\"}]},\"id\":\"2054\",\"type\":\"Legend\"},{\"attributes\":{\"line_alpha\":0.1,\"line_color\":\"#1f77b4\",\"line_width\":5,\"x\":{\"field\":\"x\"},\"y\":{\"field\":\"y\"}},\"id\":\"2058\",\"type\":\"Line\"},{\"attributes\":{\"line_alpha\":0.2,\"line_color\":\"#1f77b4\",\"line_width\":5,\"x\":{\"field\":\"x\"},\"y\":{\"field\":\"y\"}},\"id\":\"2059\",\"type\":\"Line\"},{\"attributes\":{\"label\":{\"value\":\"Cache Memory\"},\"renderers\":[{\"id\":\"2046\",\"type\":\"GlyphRenderer\"}]},\"id\":\"2055\",\"type\":\"LegendItem\"},{\"attributes\":{\"axis_label\":\"Attribute Value\",\"formatter\":{\"id\":\"2052\",\"type\":\"BasicTickFormatter\"},\"ticker\":{\"id\":\"2025\",\"type\":\"BasicTicker\"}},\"id\":\"2024\",\"type\":\"LinearAxis\"},{\"attributes\":{\"data_source\":{\"id\":\"2056\",\"type\":\"ColumnDataSource\"},\"glyph\":{\"id\":\"2057\",\"type\":\"Line\"},\"hover_glyph\":null,\"muted_glyph\":{\"id\":\"2059\",\"type\":\"Line\"},\"nonselection_glyph\":{\"id\":\"2058\",\"type\":\"Line\"},\"selection_glyph\":null,\"view\":{\"id\":\"2061\",\"type\":\"CDSView\"}},\"id\":\"2060\",\"type\":\"GlyphRenderer\"},{\"attributes\":{},\"id\":\"2025\",\"type\":\"BasicTicker\"},{\"attributes\":{\"callback\":null,\"data\":{\"x\":[0,1,2,3,4,5,6,7,8,9,10,11,12,13,14,15,16,17,18,19,20,21,22,23,24,25,26,27,28,29,30,31,32,33,34,35,36,37,38,39,40,41,42,43,44,45,46,47,48,49,50,51,52,53,54,55,56,57,58,59,60,61,62,63,64,65,66,67,68,69,70,71,72,73,74,75,76,77,78,79,80,81,82,83,84,85,86,87,88,89,90,91,92,93,94,95,96,97,98,99,100,101,102,103,104,105,106,107,108,109,110,111,112,113,114,115,116,117,118,119,120,121,122,123,124,125,126,127,128,129,130,131,132,133,134,135,136,137,138,139,140,141,142,143,144,145,146,147,148,149,150,151,152,153,154,155,156,157,158,159,160,161,162,163,164,165,166,167,168,169,170,171,172,173,174,175,176,177,178,179,180,181,182,183,184,185,186,187,188,189,190,191,192,193,194,195,196,197,198,199,200,201,202,203,204,205,206,207,208],\"y\":[125,29,29,29,29,26,23,23,23,23,400,400,60,50,350,200,167,143,143,110,143,143,143,110,320,320,320,320,320,320,25,25,50,50,56,64,50,50,50,50,50,50,50,50,133,133,810,810,320,200,700,700,140,200,110,110,220,800,800,800,800,800,125,75,75,75,90,105,105,105,75,75,175,300,300,300,300,300,300,180,330,300,300,330,330,140,140,140,140,140,140,140,140,57,57,26,26,26,26,480,203,115,1100,1100,600,400,400,900,900,900,900,900,225,225,180,185,180,225,25,25,17,17,1500,1500,800,50,50,50,50,50,50,100,100,100,50,50,50,150,115,115,92,92,92,75,60,60,60,50,72,72,40,40,35,38,48,38,30,112,84,56,56,56,56,56,56,38,38,38,38,38,200,200,200,250,250,250,160,160,160,160,160,240,240,105,105,105,52,70,59,59,26,26,26,116,50,50,50,50,30,30,180,180,180,180,124,98,125,480,480]},\"selected\":{\"id\":\"2144\",\"type\":\"Selection\"},\"selection_policy\":{\"id\":\"2143\",\"type\":\"UnionRenderers\"}},\"id\":\"2056\",\"type\":\"ColumnDataSource\"},{\"attributes\":{\"source\":{\"id\":\"2056\",\"type\":\"ColumnDataSource\"}},\"id\":\"2061\",\"type\":\"CDSView\"},{\"attributes\":{\"dimension\":1,\"ticker\":{\"id\":\"2025\",\"type\":\"BasicTicker\"}},\"id\":\"2028\",\"type\":\"Grid\"},{\"attributes\":{\"text\":\"Attributes per Hardware\"},\"id\":\"2009\",\"type\":\"Title\"},{\"attributes\":{},\"id\":\"2068\",\"type\":\"UnionRenderers\"},{\"attributes\":{\"line_alpha\":0.1,\"line_color\":\"#1f77b4\",\"line_width\":5,\"x\":{\"field\":\"x\"},\"y\":{\"field\":\"y\"}},\"id\":\"2044\",\"type\":\"Line\"},{\"attributes\":{},\"id\":\"2069\",\"type\":\"Selection\"},{\"attributes\":{\"line_color\":\"#1f77b4\",\"line_width\":5,\"x\":{\"field\":\"x\"},\"y\":{\"field\":\"y\"}},\"id\":\"2043\",\"type\":\"Line\"},{\"attributes\":{\"label\":{\"value\":\"Cycle time in ns\"},\"renderers\":[{\"id\":\"2060\",\"type\":\"GlyphRenderer\"}]},\"id\":\"2070\",\"type\":\"LegendItem\"},{\"attributes\":{},\"id\":\"2029\",\"type\":\"PanTool\"},{\"attributes\":{\"callback\":null,\"data\":{\"x\":[0,1,2,3,4,5,6,7,8,9,10,11,12,13,14,15,16,17,18,19,20,21,22,23,24,25,26,27,28,29,30,31,32,33,34,35,36,37,38,39,40,41,42,43,44,45,46,47,48,49,50,51,52,53,54,55,56,57,58,59,60,61,62,63,64,65,66,67,68,69,70,71,72,73,74,75,76,77,78,79,80,81,82,83,84,85,86,87,88,89,90,91,92,93,94,95,96,97,98,99,100,101,102,103,104,105,106,107,108,109,110,111,112,113,114,115,116,117,118,119,120,121,122,123,124,125,126,127,128,129,130,131,132,133,134,135,136,137,138,139,140,141,142,143,144,145,146,147,148,149,150,151,152,153,154,155,156,157,158,159,160,161,162,163,164,165,166,167,168,169,170,171,172,173,174,175,176,177,178,179,180,181,182,183,184,185,186,187,188,189,190,191,192,193,194,195,196,197,198,199,200,201,202,203,204,205,206,207,208],\"y\":[256,32,32,32,32,64,64,64,64,128,0,4,65,65,0,0,8,0,0,142,0,0,0,0,0,4,0,4,4,4,131,131,30,30,30,30,8,8,8,8,8,8,8,8,9,9,8,0,4,8,0,0,16,0,16,16,16,0,0,0,0,0,0,64,64,128,0,0,0,8,8,8,0,0,6,6,0,6,6,6,0,8,8,0,0,0,0,8,32,32,32,32,8,1,64,64,64,0,0,0,0,16,0,0,0,0,0,0,0,4,8,0,8,8,8,16,16,2,8,16,8,32,0,0,0,0,8,8,24,24,48,0,24,24,12,24,24,0,16,2,32,32,4,16,32,64,64,64,64,16,32,64,64,128,32,64,256,0,0,0,0,0,0,0,0,32,32,64,160,128,0,0,64,0,0,1,2,2,8,16,32,8,8,8,16,16,32,8,32,64,32,64,128,32,24,48,112,112,96,128,0,0,0,0,0,32,0,32,0]},\"selected\":{\"id\":\"2069\",\"type\":\"Selection\"},\"selection_policy\":{\"id\":\"2068\",\"type\":\"UnionRenderers\"}},\"id\":\"2042\",\"type\":\"ColumnDataSource\"},{\"attributes\":{\"callback\":null},\"id\":\"2013\",\"type\":\"DataRange1d\"},{\"attributes\":{},\"id\":\"2030\",\"type\":\"WheelZoomTool\"},{\"attributes\":{},\"id\":\"2144\",\"type\":\"Selection\"},{\"attributes\":{\"overlay\":{\"id\":\"2053\",\"type\":\"BoxAnnotation\"}},\"id\":\"2031\",\"type\":\"BoxZoomTool\"},{\"attributes\":{},\"id\":\"2032\",\"type\":\"SaveTool\"},{\"attributes\":{\"axis_label\":\"Hardware index\",\"formatter\":{\"id\":\"2050\",\"type\":\"BasicTickFormatter\"},\"ticker\":{\"id\":\"2020\",\"type\":\"BasicTicker\"}},\"id\":\"2019\",\"type\":\"LinearAxis\"},{\"attributes\":{},\"id\":\"2033\",\"type\":\"ResetTool\"},{\"attributes\":{},\"id\":\"2034\",\"type\":\"HelpTool\"},{\"attributes\":{\"active_drag\":\"auto\",\"active_inspect\":\"auto\",\"active_multi\":null,\"active_scroll\":\"auto\",\"active_tap\":\"auto\",\"tools\":[{\"id\":\"2029\",\"type\":\"PanTool\"},{\"id\":\"2030\",\"type\":\"WheelZoomTool\"},{\"id\":\"2031\",\"type\":\"BoxZoomTool\"},{\"id\":\"2032\",\"type\":\"SaveTool\"},{\"id\":\"2033\",\"type\":\"ResetTool\"},{\"id\":\"2034\",\"type\":\"HelpTool\"}]},\"id\":\"2035\",\"type\":\"Toolbar\"},{\"attributes\":{\"line_alpha\":0.2,\"line_color\":\"#1f77b4\",\"line_width\":5,\"x\":{\"field\":\"x\"},\"y\":{\"field\":\"y\"}},\"id\":\"2045\",\"type\":\"Line\"},{\"attributes\":{\"callback\":null},\"id\":\"2011\",\"type\":\"DataRange1d\"},{\"attributes\":{},\"id\":\"2015\",\"type\":\"LinearScale\"},{\"attributes\":{\"data_source\":{\"id\":\"2042\",\"type\":\"ColumnDataSource\"},\"glyph\":{\"id\":\"2043\",\"type\":\"Line\"},\"hover_glyph\":null,\"muted_glyph\":{\"id\":\"2045\",\"type\":\"Line\"},\"nonselection_glyph\":{\"id\":\"2044\",\"type\":\"Line\"},\"selection_glyph\":null,\"view\":{\"id\":\"2047\",\"type\":\"CDSView\"}},\"id\":\"2046\",\"type\":\"GlyphRenderer\"}],\"root_ids\":[\"2008\"]},\"title\":\"Bokeh Application\",\"version\":\"1.4.0\"}};\n",
       "  var render_items = [{\"docid\":\"069a6886-4f00-40cf-a99a-3c8db24e85da\",\"roots\":{\"2008\":\"3682229a-3da2-4845-a8cb-1a7eb9b0c9c5\"}}];\n",
       "  root.Bokeh.embed.embed_items_notebook(docs_json, render_items);\n",
       "\n",
       "  }\n",
       "  if (root.Bokeh !== undefined) {\n",
       "    embed_document(root);\n",
       "  } else {\n",
       "    var attempts = 0;\n",
       "    var timer = setInterval(function(root) {\n",
       "      if (root.Bokeh !== undefined) {\n",
       "        clearInterval(timer);\n",
       "        embed_document(root);\n",
       "      } else {\n",
       "        attempts++;\n",
       "        if (attempts > 100) {\n",
       "          clearInterval(timer);\n",
       "          console.log(\"Bokeh: ERROR: Unable to run BokehJS code because BokehJS library is missing\");\n",
       "        }\n",
       "      }\n",
       "    }, 10, root)\n",
       "  }\n",
       "})(window);"
      ],
      "application/vnd.bokehjs_exec.v0+json": ""
     },
     "metadata": {
      "application/vnd.bokehjs_exec.v0+json": {
       "id": "2008"
      }
     },
     "output_type": "display_data"
    }
   ],
   "source": [
    "# adding mutability to the legend\n",
    "plot = figure(title='Attributes per Hardware', x_axis_label='Hardware index', y_axis_label='Attribute Value')\n",
    "plot.line(dataset['index'], dataset['cach'], line_width=5, legend_label='Cache Memory', muted_alpha=0.2)\n",
    "plot.line(dataset['index'], dataset['myct'], line_width=5, color='red', legend_label='Cycle time in ns', muted_alpha=0.2)\n",
    "\n",
    "plot.legend.click_policy=\"mute\" \n",
    "\n",
    "show(plot)"
   ]
  },
  {
   "cell_type": "markdown",
   "metadata": {},
   "source": [
    "### Color Mappers"
   ]
  },
  {
   "cell_type": "markdown",
   "metadata": {},
   "source": [
    "Color mappers can map specific values to a given color in the selected spectrum.   \n",
    "By providing the minimum and maximum value for a variable, we define the range in which colors are returned."
   ]
  },
  {
   "cell_type": "code",
   "execution_count": 18,
   "metadata": {},
   "outputs": [
    {
     "data": {
      "text/html": [
       "\n",
       "\n",
       "\n",
       "\n",
       "\n",
       "\n",
       "  <div class=\"bk-root\" id=\"b6f24852-ece3-422a-a67d-61c983e632f5\" data-root-id=\"2375\"></div>\n"
      ]
     },
     "metadata": {},
     "output_type": "display_data"
    },
    {
     "data": {
      "application/javascript": [
       "(function(root) {\n",
       "  function embed_document(root) {\n",
       "    \n",
       "  var docs_json = {\"b3ccbb51-ccce-4fe3-91b7-aa76608fb245\":{\"roots\":{\"references\":[{\"attributes\":{\"below\":[{\"id\":\"2386\",\"type\":\"LinearAxis\"}],\"center\":[{\"id\":\"2390\",\"type\":\"Grid\"},{\"id\":\"2395\",\"type\":\"Grid\"}],\"left\":[{\"id\":\"2391\",\"type\":\"LinearAxis\"}],\"renderers\":[{\"id\":\"2412\",\"type\":\"GlyphRenderer\"}],\"title\":{\"id\":\"2376\",\"type\":\"Title\"},\"toolbar\":{\"id\":\"2402\",\"type\":\"Toolbar\"},\"x_range\":{\"id\":\"2378\",\"type\":\"DataRange1d\"},\"x_scale\":{\"id\":\"2382\",\"type\":\"LinearScale\"},\"y_range\":{\"id\":\"2380\",\"type\":\"DataRange1d\"},\"y_scale\":{\"id\":\"2384\",\"type\":\"LinearScale\"}},\"id\":\"2375\",\"subtype\":\"Figure\",\"type\":\"Plot\"},{\"attributes\":{\"axis_label\":\"Hardware\",\"formatter\":{\"id\":\"2498\",\"type\":\"BasicTickFormatter\"},\"ticker\":{\"id\":\"2387\",\"type\":\"BasicTicker\"}},\"id\":\"2386\",\"type\":\"LinearAxis\"},{\"attributes\":{\"bottom_units\":\"screen\",\"fill_alpha\":{\"value\":0.5},\"fill_color\":{\"value\":\"lightgrey\"},\"left_units\":\"screen\",\"level\":\"overlay\",\"line_alpha\":{\"value\":1.0},\"line_color\":{\"value\":\"black\"},\"line_dash\":[4,4],\"line_width\":{\"value\":2},\"render_mode\":\"css\",\"right_units\":\"screen\",\"top_units\":\"screen\"},\"id\":\"2501\",\"type\":\"BoxAnnotation\"},{\"attributes\":{},\"id\":\"2387\",\"type\":\"BasicTicker\"},{\"attributes\":{\"ticker\":{\"id\":\"2387\",\"type\":\"BasicTicker\"}},\"id\":\"2390\",\"type\":\"Grid\"},{\"attributes\":{\"axis_label\":\"Cache Memory\",\"formatter\":{\"id\":\"2500\",\"type\":\"BasicTickFormatter\"},\"ticker\":{\"id\":\"2392\",\"type\":\"BasicTicker\"}},\"id\":\"2391\",\"type\":\"LinearAxis\"},{\"attributes\":{},\"id\":\"2392\",\"type\":\"BasicTicker\"},{\"attributes\":{\"text\":\"Cache per Hardware\"},\"id\":\"2376\",\"type\":\"Title\"},{\"attributes\":{\"dimension\":1,\"ticker\":{\"id\":\"2392\",\"type\":\"BasicTicker\"}},\"id\":\"2395\",\"type\":\"Grid\"},{\"attributes\":{\"fill_alpha\":{\"value\":0.1},\"fill_color\":{\"value\":\"#1f77b4\"},\"line_alpha\":{\"value\":0.1},\"line_color\":{\"value\":\"#1f77b4\"},\"size\":{\"units\":\"screen\",\"value\":10},\"x\":{\"field\":\"x\"},\"y\":{\"field\":\"y\"}},\"id\":\"2411\",\"type\":\"Scatter\"},{\"attributes\":{},\"id\":\"2503\",\"type\":\"Selection\"},{\"attributes\":{\"fill_color\":{\"field\":\"y\",\"transform\":{\"id\":\"2374\",\"type\":\"LinearColorMapper\"}},\"line_color\":{\"field\":\"y\",\"transform\":{\"id\":\"2374\",\"type\":\"LinearColorMapper\"}},\"size\":{\"units\":\"screen\",\"value\":10},\"x\":{\"field\":\"x\"},\"y\":{\"field\":\"y\"}},\"id\":\"2410\",\"type\":\"Scatter\"},{\"attributes\":{},\"id\":\"2396\",\"type\":\"PanTool\"},{\"attributes\":{},\"id\":\"2397\",\"type\":\"WheelZoomTool\"},{\"attributes\":{\"high\":256,\"low\":0,\"palette\":[\"#000003\",\"#000004\",\"#000006\",\"#010007\",\"#010109\",\"#01010B\",\"#02020D\",\"#02020F\",\"#030311\",\"#040313\",\"#040415\",\"#050417\",\"#060519\",\"#07051B\",\"#08061D\",\"#09071F\",\"#0A0722\",\"#0B0824\",\"#0C0926\",\"#0D0A28\",\"#0E0A2A\",\"#0F0B2C\",\"#100C2F\",\"#110C31\",\"#120D33\",\"#140D35\",\"#150E38\",\"#160E3A\",\"#170F3C\",\"#180F3F\",\"#1A1041\",\"#1B1044\",\"#1C1046\",\"#1E1049\",\"#1F114B\",\"#20114D\",\"#221150\",\"#231152\",\"#251155\",\"#261157\",\"#281159\",\"#2A115C\",\"#2B115E\",\"#2D1060\",\"#2F1062\",\"#301065\",\"#321067\",\"#341068\",\"#350F6A\",\"#370F6C\",\"#390F6E\",\"#3B0F6F\",\"#3C0F71\",\"#3E0F72\",\"#400F73\",\"#420F74\",\"#430F75\",\"#450F76\",\"#470F77\",\"#481078\",\"#4A1079\",\"#4B1079\",\"#4D117A\",\"#4F117B\",\"#50127B\",\"#52127C\",\"#53137C\",\"#55137D\",\"#57147D\",\"#58157E\",\"#5A157E\",\"#5B167E\",\"#5D177E\",\"#5E177F\",\"#60187F\",\"#61187F\",\"#63197F\",\"#651A80\",\"#661A80\",\"#681B80\",\"#691C80\",\"#6B1C80\",\"#6C1D80\",\"#6E1E81\",\"#6F1E81\",\"#711F81\",\"#731F81\",\"#742081\",\"#762181\",\"#772181\",\"#792281\",\"#7A2281\",\"#7C2381\",\"#7E2481\",\"#7F2481\",\"#812581\",\"#822581\",\"#842681\",\"#852681\",\"#872781\",\"#892881\",\"#8A2881\",\"#8C2980\",\"#8D2980\",\"#8F2A80\",\"#912A80\",\"#922B80\",\"#942B80\",\"#952C80\",\"#972C7F\",\"#992D7F\",\"#9A2D7F\",\"#9C2E7F\",\"#9E2E7E\",\"#9F2F7E\",\"#A12F7E\",\"#A3307E\",\"#A4307D\",\"#A6317D\",\"#A7317D\",\"#A9327C\",\"#AB337C\",\"#AC337B\",\"#AE347B\",\"#B0347B\",\"#B1357A\",\"#B3357A\",\"#B53679\",\"#B63679\",\"#B83778\",\"#B93778\",\"#BB3877\",\"#BD3977\",\"#BE3976\",\"#C03A75\",\"#C23A75\",\"#C33B74\",\"#C53C74\",\"#C63C73\",\"#C83D72\",\"#CA3E72\",\"#CB3E71\",\"#CD3F70\",\"#CE4070\",\"#D0416F\",\"#D1426E\",\"#D3426D\",\"#D4436D\",\"#D6446C\",\"#D7456B\",\"#D9466A\",\"#DA4769\",\"#DC4869\",\"#DD4968\",\"#DE4A67\",\"#E04B66\",\"#E14C66\",\"#E24D65\",\"#E44E64\",\"#E55063\",\"#E65162\",\"#E75262\",\"#E85461\",\"#EA5560\",\"#EB5660\",\"#EC585F\",\"#ED595F\",\"#EE5B5E\",\"#EE5D5D\",\"#EF5E5D\",\"#F0605D\",\"#F1615C\",\"#F2635C\",\"#F3655C\",\"#F3675B\",\"#F4685B\",\"#F56A5B\",\"#F56C5B\",\"#F66E5B\",\"#F6705B\",\"#F7715B\",\"#F7735C\",\"#F8755C\",\"#F8775C\",\"#F9795C\",\"#F97B5D\",\"#F97D5D\",\"#FA7F5E\",\"#FA805E\",\"#FA825F\",\"#FB8460\",\"#FB8660\",\"#FB8861\",\"#FB8A62\",\"#FC8C63\",\"#FC8E63\",\"#FC9064\",\"#FC9265\",\"#FC9366\",\"#FD9567\",\"#FD9768\",\"#FD9969\",\"#FD9B6A\",\"#FD9D6B\",\"#FD9F6C\",\"#FDA16E\",\"#FDA26F\",\"#FDA470\",\"#FEA671\",\"#FEA873\",\"#FEAA74\",\"#FEAC75\",\"#FEAE76\",\"#FEAF78\",\"#FEB179\",\"#FEB37B\",\"#FEB57C\",\"#FEB77D\",\"#FEB97F\",\"#FEBB80\",\"#FEBC82\",\"#FEBE83\",\"#FEC085\",\"#FEC286\",\"#FEC488\",\"#FEC689\",\"#FEC78B\",\"#FEC98D\",\"#FECB8E\",\"#FDCD90\",\"#FDCF92\",\"#FDD193\",\"#FDD295\",\"#FDD497\",\"#FDD698\",\"#FDD89A\",\"#FDDA9C\",\"#FDDC9D\",\"#FDDD9F\",\"#FDDFA1\",\"#FDE1A3\",\"#FCE3A5\",\"#FCE5A6\",\"#FCE6A8\",\"#FCE8AA\",\"#FCEAAC\",\"#FCECAE\",\"#FCEEB0\",\"#FCF0B1\",\"#FCF1B3\",\"#FCF3B5\",\"#FCF5B7\",\"#FBF7B9\",\"#FBF9BB\",\"#FBFABD\",\"#FBFCBF\"]},\"id\":\"2374\",\"type\":\"LinearColorMapper\"},{\"attributes\":{\"overlay\":{\"id\":\"2501\",\"type\":\"BoxAnnotation\"}},\"id\":\"2398\",\"type\":\"BoxZoomTool\"},{\"attributes\":{},\"id\":\"2399\",\"type\":\"SaveTool\"},{\"attributes\":{},\"id\":\"2384\",\"type\":\"LinearScale\"},{\"attributes\":{\"callback\":null,\"data\":{\"x\":[0,1,2,3,4,5,6,7,8,9,10,11,12,13,14,15,16,17,18,19,20,21,22,23,24,25,26,27,28,29,30,31,32,33,34,35,36,37,38,39,40,41,42,43,44,45,46,47,48,49,50,51,52,53,54,55,56,57,58,59,60,61,62,63,64,65,66,67,68,69,70,71,72,73,74,75,76,77,78,79,80,81,82,83,84,85,86,87,88,89,90,91,92,93,94,95,96,97,98,99,100,101,102,103,104,105,106,107,108,109,110,111,112,113,114,115,116,117,118,119,120,121,122,123,124,125,126,127,128,129,130,131,132,133,134,135,136,137,138,139,140,141,142,143,144,145,146,147,148,149,150,151,152,153,154,155,156,157,158,159,160,161,162,163,164,165,166,167,168,169,170,171,172,173,174,175,176,177,178,179,180,181,182,183,184,185,186,187,188,189,190,191,192,193,194,195,196,197,198,199,200,201,202,203,204,205,206,207,208],\"y\":[256,32,32,32,32,64,64,64,64,128,0,4,65,65,0,0,8,0,0,142,0,0,0,0,0,4,0,4,4,4,131,131,30,30,30,30,8,8,8,8,8,8,8,8,9,9,8,0,4,8,0,0,16,0,16,16,16,0,0,0,0,0,0,64,64,128,0,0,0,8,8,8,0,0,6,6,0,6,6,6,0,8,8,0,0,0,0,8,32,32,32,32,8,1,64,64,64,0,0,0,0,16,0,0,0,0,0,0,0,4,8,0,8,8,8,16,16,2,8,16,8,32,0,0,0,0,8,8,24,24,48,0,24,24,12,24,24,0,16,2,32,32,4,16,32,64,64,64,64,16,32,64,64,128,32,64,256,0,0,0,0,0,0,0,0,32,32,64,160,128,0,0,64,0,0,1,2,2,8,16,32,8,8,8,16,16,32,8,32,64,32,64,128,32,24,48,112,112,96,128,0,0,0,0,0,32,0,32,0]},\"selected\":{\"id\":\"2503\",\"type\":\"Selection\"},\"selection_policy\":{\"id\":\"2502\",\"type\":\"UnionRenderers\"}},\"id\":\"2409\",\"type\":\"ColumnDataSource\"},{\"attributes\":{},\"id\":\"2400\",\"type\":\"ResetTool\"},{\"attributes\":{},\"id\":\"2401\",\"type\":\"HelpTool\"},{\"attributes\":{},\"id\":\"2502\",\"type\":\"UnionRenderers\"},{\"attributes\":{\"active_drag\":\"auto\",\"active_inspect\":\"auto\",\"active_multi\":null,\"active_scroll\":\"auto\",\"active_tap\":\"auto\",\"tools\":[{\"id\":\"2396\",\"type\":\"PanTool\"},{\"id\":\"2397\",\"type\":\"WheelZoomTool\"},{\"id\":\"2398\",\"type\":\"BoxZoomTool\"},{\"id\":\"2399\",\"type\":\"SaveTool\"},{\"id\":\"2400\",\"type\":\"ResetTool\"},{\"id\":\"2401\",\"type\":\"HelpTool\"}]},\"id\":\"2402\",\"type\":\"Toolbar\"},{\"attributes\":{},\"id\":\"2498\",\"type\":\"BasicTickFormatter\"},{\"attributes\":{\"data_source\":{\"id\":\"2409\",\"type\":\"ColumnDataSource\"},\"glyph\":{\"id\":\"2410\",\"type\":\"Scatter\"},\"hover_glyph\":null,\"muted_glyph\":null,\"nonselection_glyph\":{\"id\":\"2411\",\"type\":\"Scatter\"},\"selection_glyph\":null,\"view\":{\"id\":\"2413\",\"type\":\"CDSView\"}},\"id\":\"2412\",\"type\":\"GlyphRenderer\"},{\"attributes\":{},\"id\":\"2382\",\"type\":\"LinearScale\"},{\"attributes\":{\"callback\":null},\"id\":\"2380\",\"type\":\"DataRange1d\"},{\"attributes\":{\"source\":{\"id\":\"2409\",\"type\":\"ColumnDataSource\"}},\"id\":\"2413\",\"type\":\"CDSView\"},{\"attributes\":{\"callback\":null},\"id\":\"2378\",\"type\":\"DataRange1d\"},{\"attributes\":{},\"id\":\"2500\",\"type\":\"BasicTickFormatter\"}],\"root_ids\":[\"2375\"]},\"title\":\"Bokeh Application\",\"version\":\"1.4.0\"}};\n",
       "  var render_items = [{\"docid\":\"b3ccbb51-ccce-4fe3-91b7-aa76608fb245\",\"roots\":{\"2375\":\"b6f24852-ece3-422a-a67d-61c983e632f5\"}}];\n",
       "  root.Bokeh.embed.embed_items_notebook(docs_json, render_items);\n",
       "\n",
       "  }\n",
       "  if (root.Bokeh !== undefined) {\n",
       "    embed_document(root);\n",
       "  } else {\n",
       "    var attempts = 0;\n",
       "    var timer = setInterval(function(root) {\n",
       "      if (root.Bokeh !== undefined) {\n",
       "        clearInterval(timer);\n",
       "        embed_document(root);\n",
       "      } else {\n",
       "        attempts++;\n",
       "        if (attempts > 100) {\n",
       "          clearInterval(timer);\n",
       "          console.log(\"Bokeh: ERROR: Unable to run BokehJS code because BokehJS library is missing\");\n",
       "        }\n",
       "      }\n",
       "    }, 10, root)\n",
       "  }\n",
       "})(window);"
      ],
      "application/vnd.bokehjs_exec.v0+json": ""
     },
     "metadata": {
      "application/vnd.bokehjs_exec.v0+json": {
       "id": "2375"
      }
     },
     "output_type": "display_data"
    }
   ],
   "source": [
    "# adding color based on the mean price to our elements\n",
    "from bokeh.models import LinearColorMapper\n",
    "\n",
    "color_mapper = LinearColorMapper(palette='Magma256', low=min(dataset['cach']), high=max(dataset['cach'])) \n",
    "\n",
    "plot = figure(title='Cache per Hardware', x_axis_label='Hardware', y_axis_label='Cache Memory')\n",
    "plot.scatter(dataset['index'], dataset['cach'], color={'field': 'y', 'transform': color_mapper}, size=10)\n",
    "\n",
    "show(plot)"
   ]
  },
  {
   "cell_type": "markdown",
   "metadata": {},
   "source": [
    "### DataSources"
   ]
  },
  {
   "cell_type": "markdown",
   "metadata": {},
   "source": [
    "DataSources can be helpful in several cases like e.g. displaying a tooltip on hovering the data points.   \n",
    "In most cases we can use pandas dataframes to feed data into our plot, but for certain features like tooltips, we have to use DataSource."
   ]
  },
  {
   "cell_type": "code",
   "execution_count": 19,
   "metadata": {},
   "outputs": [
    {
     "data": {
      "text/html": [
       "\n",
       "\n",
       "\n",
       "\n",
       "\n",
       "\n",
       "  <div class=\"bk-root\" id=\"420f912c-f83e-4a54-aaa4-eb69a7dc8856\" data-root-id=\"2553\"></div>\n"
      ]
     },
     "metadata": {},
     "output_type": "display_data"
    },
    {
     "data": {
      "application/javascript": [
       "(function(root) {\n",
       "  function embed_document(root) {\n",
       "    \n",
       "  var docs_json = {\"9d768b7b-0b07-4a14-a9c7-17b69f0b8efd\":{\"roots\":{\"references\":[{\"attributes\":{\"below\":[{\"id\":\"2564\",\"type\":\"LinearAxis\"}],\"center\":[{\"id\":\"2568\",\"type\":\"Grid\"},{\"id\":\"2573\",\"type\":\"Grid\"}],\"left\":[{\"id\":\"2569\",\"type\":\"LinearAxis\"}],\"renderers\":[{\"id\":\"2592\",\"type\":\"GlyphRenderer\"}],\"title\":{\"id\":\"2554\",\"type\":\"Title\"},\"toolbar\":{\"id\":\"2581\",\"type\":\"Toolbar\"},\"x_range\":{\"id\":\"2556\",\"type\":\"DataRange1d\"},\"x_scale\":{\"id\":\"2560\",\"type\":\"LinearScale\"},\"y_range\":{\"id\":\"2558\",\"type\":\"DataRange1d\"},\"y_scale\":{\"id\":\"2562\",\"type\":\"LinearScale\"}},\"id\":\"2553\",\"subtype\":\"Figure\",\"type\":\"Plot\"},{\"attributes\":{},\"id\":\"2577\",\"type\":\"SaveTool\"},{\"attributes\":{\"bottom_units\":\"screen\",\"fill_alpha\":{\"value\":0.5},\"fill_color\":{\"value\":\"lightgrey\"},\"left_units\":\"screen\",\"level\":\"overlay\",\"line_alpha\":{\"value\":1.0},\"line_color\":{\"value\":\"black\"},\"line_dash\":[4,4],\"line_width\":{\"value\":2},\"render_mode\":\"css\",\"right_units\":\"screen\",\"top_units\":\"screen\"},\"id\":\"2689\",\"type\":\"BoxAnnotation\"},{\"attributes\":{},\"id\":\"2690\",\"type\":\"UnionRenderers\"},{\"attributes\":{},\"id\":\"2578\",\"type\":\"ResetTool\"},{\"attributes\":{\"text\":\"Cache per Hardware\"},\"id\":\"2554\",\"type\":\"Title\"},{\"attributes\":{},\"id\":\"2579\",\"type\":\"HelpTool\"},{\"attributes\":{\"callback\":null},\"id\":\"2556\",\"type\":\"DataRange1d\"},{\"attributes\":{\"callback\":null,\"tooltips\":[[\"Vendor\",\"@vendor_name\"],[\"Model\",\"@model\"],[\"Cache\",\"@cach\"]]},\"id\":\"2580\",\"type\":\"HoverTool\"},{\"attributes\":{\"data_source\":{\"id\":\"2552\",\"type\":\"ColumnDataSource\"},\"glyph\":{\"id\":\"2590\",\"type\":\"Scatter\"},\"hover_glyph\":null,\"muted_glyph\":null,\"nonselection_glyph\":{\"id\":\"2591\",\"type\":\"Scatter\"},\"selection_glyph\":null,\"view\":{\"id\":\"2593\",\"type\":\"CDSView\"}},\"id\":\"2592\",\"type\":\"GlyphRenderer\"},{\"attributes\":{\"callback\":null},\"id\":\"2558\",\"type\":\"DataRange1d\"},{\"attributes\":{},\"id\":\"2560\",\"type\":\"LinearScale\"},{\"attributes\":{\"source\":{\"id\":\"2552\",\"type\":\"ColumnDataSource\"}},\"id\":\"2593\",\"type\":\"CDSView\"},{\"attributes\":{},\"id\":\"2562\",\"type\":\"LinearScale\"},{\"attributes\":{\"axis_label\":\"Hardware\",\"formatter\":{\"id\":\"2686\",\"type\":\"BasicTickFormatter\"},\"ticker\":{\"id\":\"2565\",\"type\":\"BasicTicker\"}},\"id\":\"2564\",\"type\":\"LinearAxis\"},{\"attributes\":{},\"id\":\"2565\",\"type\":\"BasicTicker\"},{\"attributes\":{\"ticker\":{\"id\":\"2565\",\"type\":\"BasicTicker\"}},\"id\":\"2568\",\"type\":\"Grid\"},{\"attributes\":{\"axis_label\":\"Cache Memory\",\"formatter\":{\"id\":\"2688\",\"type\":\"BasicTickFormatter\"},\"ticker\":{\"id\":\"2570\",\"type\":\"BasicTicker\"}},\"id\":\"2569\",\"type\":\"LinearAxis\"},{\"attributes\":{},\"id\":\"2570\",\"type\":\"BasicTicker\"},{\"attributes\":{\"dimension\":1,\"ticker\":{\"id\":\"2570\",\"type\":\"BasicTicker\"}},\"id\":\"2573\",\"type\":\"Grid\"},{\"attributes\":{\"fill_alpha\":{\"value\":0.1},\"fill_color\":{\"value\":\"#1f77b4\"},\"line_alpha\":{\"value\":0.1},\"line_color\":{\"value\":\"#1f77b4\"},\"size\":{\"units\":\"screen\",\"value\":10},\"x\":{\"field\":\"x\"},\"y\":{\"field\":\"y\"}},\"id\":\"2591\",\"type\":\"Scatter\"},{\"attributes\":{},\"id\":\"2688\",\"type\":\"BasicTickFormatter\"},{\"attributes\":{\"fill_color\":{\"value\":\"teal\"},\"line_color\":{\"value\":\"teal\"},\"size\":{\"units\":\"screen\",\"value\":10},\"x\":{\"field\":\"x\"},\"y\":{\"field\":\"y\"}},\"id\":\"2590\",\"type\":\"Scatter\"},{\"attributes\":{\"active_drag\":\"auto\",\"active_inspect\":\"auto\",\"active_multi\":null,\"active_scroll\":\"auto\",\"active_tap\":\"auto\",\"tools\":[{\"id\":\"2574\",\"type\":\"PanTool\"},{\"id\":\"2575\",\"type\":\"WheelZoomTool\"},{\"id\":\"2576\",\"type\":\"BoxZoomTool\"},{\"id\":\"2577\",\"type\":\"SaveTool\"},{\"id\":\"2578\",\"type\":\"ResetTool\"},{\"id\":\"2579\",\"type\":\"HelpTool\"},{\"id\":\"2580\",\"type\":\"HoverTool\"}]},\"id\":\"2581\",\"type\":\"Toolbar\"},{\"attributes\":{},\"id\":\"2574\",\"type\":\"PanTool\"},{\"attributes\":{},\"id\":\"2691\",\"type\":\"Selection\"},{\"attributes\":{\"callback\":null,\"data\":{\"cach\":[256,32,32,32,32,64,64,64,64,128,0,4,65,65,0,0,8,0,0,142,0,0,0,0,0,4,0,4,4,4,131,131,30,30,30,30,8,8,8,8,8,8,8,8,9,9,8,0,4,8,0,0,16,0,16,16,16,0,0,0,0,0,0,64,64,128,0,0,0,8,8,8,0,0,6,6,0,6,6,6,0,8,8,0,0,0,0,8,32,32,32,32,8,1,64,64,64,0,0,0,0,16,0,0,0,0,0,0,0,4,8,0,8,8,8,16,16,2,8,16,8,32,0,0,0,0,8,8,24,24,48,0,24,24,12,24,24,0,16,2,32,32,4,16,32,64,64,64,64,16,32,64,64,128,32,64,256,0,0,0,0,0,0,0,0,32,32,64,160,128,0,0,64,0,0,1,2,2,8,16,32,8,8,8,16,16,32,8,32,64,32,64,128,32,24,48,112,112,96,128,0,0,0,0,0,32,0,32,0],\"model\":[\"32/60\",\"470v/7\",\"470v/7a\",\"470v/7b\",\"470v/7c\",\"470v/b\",\"580-5840\",\"580-5850\",\"580-5860\",\"580-5880\",\"dn320\",\"dn420\",\"7/65\",\"7/68\",\"5000\",\"8000\",\"b1955\",\"b2900\",\"b2925\",\"b4955\",\"b5900\",\"b5920\",\"b6900\",\"b6925\",\"68/10-80\",\"universe:2203t\",\"universe:68\",\"universe:68/05\",\"universe:68/137\",\"universe:68/37\",\"cyber:170/750\",\"cyber:170/760\",\"cyber:170/815\",\"cyber:170/825\",\"cyber:170/835\",\"cyber:170/845\",\"omega:480-i\",\"omega:480-ii\",\"omega:480-iii\",\"1636-1\",\"1636-10\",\"1641-1\",\"1641-11\",\"1651-1\",\"decsys:10:1091\",\"decsys:20:2060\",\"microvax-1\",\"vax:11/730\",\"vax:11/750\",\"vax:11/780\",\"eclipse:c/350\",\"eclipse:m/600\",\"eclipse:mv/10000\",\"eclipse:mv/4000\",\"eclipse:mv/6000\",\"eclipse:mv/8000\",\"eclipse:mv/8000-ii\",\"f4000/100\",\"f4000/200\",\"f4000/200ap\",\"f4000/300\",\"f4000/300ap\",\"2000/260\",\"concept:32/8705\",\"concept:32/8750\",\"concept:32/8780\",\"3000/30\",\"3000/40\",\"3000/44\",\"3000/48\",\"3000/64\",\"3000/88\",\"3000/iii\",\"100\",\"300\",\"500\",\"600\",\"700\",\"80\",\"800\",\"dps:6/35\",\"dps:6/92\",\"dps:6/96\",\"dps:7/35\",\"dps:7/45\",\"dps:7/55\",\"dps:7/65\",\"dps:8/44\",\"dps:8/49\",\"dps:8/50\",\"dps:8/52\",\"dps:8/62\",\"dps:8/20\",\"3033:s\",\"3033:u\",\"3081\",\"3081:d\",\"3083:b\",\"3083:e\",\"370/125-2\",\"370/148\",\"370/158-3\",\"38/3\",\"38/4\",\"38/5\",\"38/7\",\"38/8\",\"4321\",\"4331-1\",\"4331-11\",\"4331-2\",\"4341\",\"4341-1\",\"4341-10\",\"4341-11\",\"4341-12\",\"4341-2\",\"4341-9\",\"4361-4\",\"4361-5\",\"4381-1\",\"4381-2\",\"8130-a\",\"8130-b\",\"8140\",\"4436\",\"4443\",\"4445\",\"4446\",\"4460\",\"4480\",\"m80/30\",\"m80/31\",\"m80/32\",\"m80/42\",\"m80/43\",\"m80/44\",\"seq.ms/3200\",\"as/3000\",\"as/3000-n\",\"as/5000\",\"as/5000-e\",\"as/5000-n\",\"as/6130\",\"as/6150\",\"as/6620\",\"as/6630\",\"as/6650\",\"as/7000\",\"as/7000-n\",\"as/8040\",\"as/8050\",\"as/8060\",\"as/9000-dpc\",\"as/9000-n\",\"as/9040\",\"as/9060\",\"v8535:ii\",\"v8545:ii\",\"v8555:ii\",\"v8565:ii\",\"v8565:ii-e\",\"v8575:ii\",\"v8585:ii\",\"v8595:ii\",\"v8635\",\"v8650\",\"v8655\",\"v8665\",\"v8670\",\"8890/30\",\"8890/50\",\"8890/70\",\"3205\",\"3210\",\"3230\",\"50-2250\",\"50-250-ii\",\"50-550-ii\",\"50-750-ii\",\"50-850-ii\",\"7.521\",\"7.531\",\"7.536\",\"7.541\",\"7.551\",\"7.561\",\"7.865-2\",\"7.870-2\",\"7.872-2\",\"7.875-2\",\"7.880-2\",\"7.881-2\",\"1100/61-h1\",\"1100/81\",\"1100/82\",\"1100/83\",\"1100/84\",\"1100/93\",\"1100/94\",\"80/3\",\"80/4\",\"80/5\",\"80/6\",\"80/8\",\"90/80-model-3\",\"32\",\"vs-100\",\"vs-90\"],\"vendor_name\":[\"adviser\",\"amdahl\",\"amdahl\",\"amdahl\",\"amdahl\",\"amdahl\",\"amdahl\",\"amdahl\",\"amdahl\",\"amdahl\",\"apollo\",\"apollo\",\"basf\",\"basf\",\"bti\",\"bti\",\"burroughs\",\"burroughs\",\"burroughs\",\"burroughs\",\"burroughs\",\"burroughs\",\"burroughs\",\"burroughs\",\"c.r.d\",\"c.r.d\",\"c.r.d\",\"c.r.d\",\"c.r.d\",\"c.r.d\",\"cdc\",\"cdc\",\"cdc\",\"cdc\",\"cdc\",\"cdc\",\"cdc\",\"cdc\",\"cdc\",\"cambex\",\"cambex\",\"cambex\",\"cambex\",\"cambex\",\"dec\",\"dec\",\"dec\",\"dec\",\"dec\",\"dec\",\"dg\",\"dg\",\"dg\",\"dg\",\"dg\",\"dg\",\"dg\",\"formation\",\"formation\",\"formation\",\"formation\",\"formation\",\"four-phase\",\"gould\",\"gould\",\"gould\",\"hp\",\"hp\",\"hp\",\"hp\",\"hp\",\"hp\",\"hp\",\"harris\",\"harris\",\"harris\",\"harris\",\"harris\",\"harris\",\"harris\",\"honeywell\",\"honeywell\",\"honeywell\",\"honeywell\",\"honeywell\",\"honeywell\",\"honeywell\",\"honeywell\",\"honeywell\",\"honeywell\",\"honeywell\",\"honeywell\",\"honeywell\",\"ibm\",\"ibm\",\"ibm\",\"ibm\",\"ibm\",\"ibm\",\"ibm\",\"ibm\",\"ibm\",\"ibm\",\"ibm\",\"ibm\",\"ibm\",\"ibm\",\"ibm\",\"ibm\",\"ibm\",\"ibm\",\"ibm\",\"ibm\",\"ibm\",\"ibm\",\"ibm\",\"ibm\",\"ibm\",\"ibm\",\"ibm\",\"ibm\",\"ibm\",\"ibm\",\"ibm\",\"ibm\",\"ipl\",\"ipl\",\"ipl\",\"ipl\",\"ipl\",\"ipl\",\"magnuson\",\"magnuson\",\"magnuson\",\"magnuson\",\"magnuson\",\"magnuson\",\"microdata\",\"nas\",\"nas\",\"nas\",\"nas\",\"nas\",\"nas\",\"nas\",\"nas\",\"nas\",\"nas\",\"nas\",\"nas\",\"nas\",\"nas\",\"nas\",\"nas\",\"nas\",\"nas\",\"nas\",\"ncr\",\"ncr\",\"ncr\",\"ncr\",\"ncr\",\"ncr\",\"ncr\",\"ncr\",\"ncr\",\"ncr\",\"ncr\",\"ncr\",\"ncr\",\"nixdorf\",\"nixdorf\",\"nixdorf\",\"perkin-elmer\",\"perkin-elmer\",\"perkin-elmer\",\"prime\",\"prime\",\"prime\",\"prime\",\"prime\",\"siemens\",\"siemens\",\"siemens\",\"siemens\",\"siemens\",\"siemens\",\"siemens\",\"siemens\",\"siemens\",\"siemens\",\"siemens\",\"siemens\",\"sperry\",\"sperry\",\"sperry\",\"sperry\",\"sperry\",\"sperry\",\"sperry\",\"sperry\",\"sperry\",\"sperry\",\"sperry\",\"sperry\",\"sperry\",\"sratus\",\"wang\",\"wang\"],\"x\":[0,1,2,3,4,5,6,7,8,9,10,11,12,13,14,15,16,17,18,19,20,21,22,23,24,25,26,27,28,29,30,31,32,33,34,35,36,37,38,39,40,41,42,43,44,45,46,47,48,49,50,51,52,53,54,55,56,57,58,59,60,61,62,63,64,65,66,67,68,69,70,71,72,73,74,75,76,77,78,79,80,81,82,83,84,85,86,87,88,89,90,91,92,93,94,95,96,97,98,99,100,101,102,103,104,105,106,107,108,109,110,111,112,113,114,115,116,117,118,119,120,121,122,123,124,125,126,127,128,129,130,131,132,133,134,135,136,137,138,139,140,141,142,143,144,145,146,147,148,149,150,151,152,153,154,155,156,157,158,159,160,161,162,163,164,165,166,167,168,169,170,171,172,173,174,175,176,177,178,179,180,181,182,183,184,185,186,187,188,189,190,191,192,193,194,195,196,197,198,199,200,201,202,203,204,205,206,207,208],\"y\":[256,32,32,32,32,64,64,64,64,128,0,4,65,65,0,0,8,0,0,142,0,0,0,0,0,4,0,4,4,4,131,131,30,30,30,30,8,8,8,8,8,8,8,8,9,9,8,0,4,8,0,0,16,0,16,16,16,0,0,0,0,0,0,64,64,128,0,0,0,8,8,8,0,0,6,6,0,6,6,6,0,8,8,0,0,0,0,8,32,32,32,32,8,1,64,64,64,0,0,0,0,16,0,0,0,0,0,0,0,4,8,0,8,8,8,16,16,2,8,16,8,32,0,0,0,0,8,8,24,24,48,0,24,24,12,24,24,0,16,2,32,32,4,16,32,64,64,64,64,16,32,64,64,128,32,64,256,0,0,0,0,0,0,0,0,32,32,64,160,128,0,0,64,0,0,1,2,2,8,16,32,8,8,8,16,16,32,8,32,64,32,64,128,32,24,48,112,112,96,128,0,0,0,0,0,32,0,32,0]},\"selected\":{\"id\":\"2691\",\"type\":\"Selection\"},\"selection_policy\":{\"id\":\"2690\",\"type\":\"UnionRenderers\"}},\"id\":\"2552\",\"type\":\"ColumnDataSource\"},{\"attributes\":{},\"id\":\"2575\",\"type\":\"WheelZoomTool\"},{\"attributes\":{\"overlay\":{\"id\":\"2689\",\"type\":\"BoxAnnotation\"}},\"id\":\"2576\",\"type\":\"BoxZoomTool\"},{\"attributes\":{},\"id\":\"2686\",\"type\":\"BasicTickFormatter\"}],\"root_ids\":[\"2553\"]},\"title\":\"Bokeh Application\",\"version\":\"1.4.0\"}};\n",
       "  var render_items = [{\"docid\":\"9d768b7b-0b07-4a14-a9c7-17b69f0b8efd\",\"roots\":{\"2553\":\"420f912c-f83e-4a54-aaa4-eb69a7dc8856\"}}];\n",
       "  root.Bokeh.embed.embed_items_notebook(docs_json, render_items);\n",
       "\n",
       "  }\n",
       "  if (root.Bokeh !== undefined) {\n",
       "    embed_document(root);\n",
       "  } else {\n",
       "    var attempts = 0;\n",
       "    var timer = setInterval(function(root) {\n",
       "      if (root.Bokeh !== undefined) {\n",
       "        clearInterval(timer);\n",
       "        embed_document(root);\n",
       "      } else {\n",
       "        attempts++;\n",
       "        if (attempts > 100) {\n",
       "          clearInterval(timer);\n",
       "          console.log(\"Bokeh: ERROR: Unable to run BokehJS code because BokehJS library is missing\");\n",
       "        }\n",
       "      }\n",
       "    }, 10, root)\n",
       "  }\n",
       "})(window);"
      ],
      "application/vnd.bokehjs_exec.v0+json": ""
     },
     "metadata": {
      "application/vnd.bokehjs_exec.v0+json": {
       "id": "2553"
      }
     },
     "output_type": "display_data"
    }
   ],
   "source": [
    "# using a ColumnDataSource to display a tooltip on hovering\n",
    "from bokeh.models.sources import ColumnDataSource\n",
    "\n",
    "data_source = ColumnDataSource(data=dict(\n",
    "    vendor_name=dataset['vendor_name'],\n",
    "    model=dataset['model'],\n",
    "    cach=dataset['cach'],\n",
    "    x=dataset['index'],\n",
    "    y=dataset['cach']\n",
    "))\n",
    "    \n",
    "TOOLTIPS=[\n",
    "    ('Vendor', '@vendor_name'),\n",
    "    ('Model', '@model'),\n",
    "    ('Cache', '@cach')\n",
    "]\n",
    "    \n",
    "plot = figure(title='Cache per Hardware', x_axis_label='Hardware'\n",
    "              , y_axis_label='Cache Memory'\n",
    "              , tooltips=TOOLTIPS)\n",
    "plot.scatter('x', 'y', size=10, color='teal', source=data_source)\n",
    "\n",
    "show(plot)"
   ]
  },
  {
   "cell_type": "markdown",
   "metadata": {},
   "source": [
    "### Interactive Widget"
   ]
  },
  {
   "cell_type": "markdown",
   "metadata": {},
   "source": [
    "In the example below, we first import the interact element from the ipywidgets library.   \n",
    "This then allows us to define a new method and annotate it with the given @interact decorator.\n",
    "\n",
    "The provided Value attribute tells the interact element which widget to used based on the data type of the argument. In our example we provide it a string which will give us a TextBox widget. \n",
    "We can refer to the table above to determine which Value data type will return which widget.\n",
    "\n",
    "The print statement in the code above simply prints whatever has been entered in the textbox below the widget."
   ]
  },
  {
   "cell_type": "code",
   "execution_count": 20,
   "metadata": {},
   "outputs": [
    {
     "data": {
      "application/vnd.jupyter.widget-view+json": {
       "model_id": "88172a38bb664b679f59a5a2d30cfe83",
       "version_major": 2,
       "version_minor": 0
      },
      "text/plain": [
       "interactive(children=(Text(value='Input Text', description='Value'), Output()), _dom_classes=('widget-interact…"
      ]
     },
     "metadata": {},
     "output_type": "display_data"
    }
   ],
   "source": [
    "# importing the widgets\n",
    "from ipywidgets import interact, interact_manual\n",
    "\n",
    "# creating an input text\n",
    "@interact(Value='Input Text')\n",
    "def text_input(Value):\n",
    "    print(Value)"
   ]
  },
  {
   "cell_type": "markdown",
   "metadata": {},
   "source": [
    "**Note**   \n",
    "The structure of the methods defined to use interact on always have the same structure. We will look at several examples in the following exercise."
   ]
  }
 ],
 "metadata": {
  "kernelspec": {
   "display_name": "Python 3",
   "language": "python",
   "name": "python3"
  },
  "language_info": {
   "codemirror_mode": {
    "name": "ipython",
    "version": 3
   },
   "file_extension": ".py",
   "mimetype": "text/x-python",
   "name": "python",
   "nbconvert_exporter": "python",
   "pygments_lexer": "ipython3",
   "version": "3.7.2"
  }
 },
 "nbformat": 4,
 "nbformat_minor": 2
}
