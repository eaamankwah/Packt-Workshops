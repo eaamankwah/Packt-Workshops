{
 "cells": [
  {
   "cell_type": "markdown",
   "metadata": {
    "colab_type": "text",
    "id": "nOkgbPRmFDWY"
   },
   "source": [
    "## 1.\tDownload the public transportation by zip code dataset from GitHub"
   ]
  },
  {
   "cell_type": "code",
   "execution_count": 1,
   "metadata": {
    "colab": {
     "base_uri": "https://localhost:8080/",
     "height": 212
    },
    "colab_type": "code",
    "id": "AnkKoFGhFDWd",
    "outputId": "983fbfaf-df87-4bbf-f025-6c5057eff13e"
   },
   "outputs": [],
   "source": [
    "#! wget https://github.com/PacktWorkshops/The-Applied-SQL-Workshop/blob/master/Datasets/public_transportation_statistics_by_zip_code.csv"
   ]
  },
  {
   "cell_type": "markdown",
   "metadata": {
    "colab_type": "text",
    "id": "Evgr5ckhFDWl"
   },
   "source": [
    "## 2.\tCreate a table for this dataset in the database, and copy the data into the database "
   ]
  },
  {
   "cell_type": "code",
   "execution_count": 2,
   "metadata": {
    "colab": {},
    "colab_type": "code",
    "id": "ekxIvgQqFDWm"
   },
   "outputs": [],
   "source": [
    "from sqlalchemy import create_engine\n",
    "import pandas as pd\n",
    "%matplotlib inline"
   ]
  },
  {
   "cell_type": "code",
   "execution_count": 3,
   "metadata": {
    "colab": {},
    "colab_type": "code",
    "id": "cpSn0qFAFDWp",
    "outputId": "79e70579-d1e6-4bb2-bb87-937f36edc1c3"
   },
   "outputs": [
    {
     "name": "stdout",
     "output_type": "stream",
     "text": [
      "postgresql+psycopg2://{username}:{pswd}@{host}:{port}/{database}\n"
     ]
    }
   ],
   "source": [
    "cnxn_string = (\"postgresql+psycopg2://{username}:{pswd}\"\n",
    "               \"@{host}:{port}/{database}\")\n",
    "print(cnxn_string)"
   ]
  },
  {
   "cell_type": "code",
   "execution_count": 4,
   "metadata": {
    "colab": {},
    "colab_type": "code",
    "id": "ACKy-RXGFDWs"
   },
   "outputs": [],
   "source": [
    "engine = create_engine(cnxn_string.format(\n",
    "    username=\"postgres\", \n",
    "    pswd=\"eddy20\", \n",
    "    host=\"localhost\", \n",
    "    port=5432,\n",
    "    database=\"sqlda\"))"
   ]
  },
  {
   "cell_type": "code",
   "execution_count": 5,
   "metadata": {
    "colab": {},
    "colab_type": "code",
    "id": "D3DfqYnQFDWw"
   },
   "outputs": [],
   "source": [
    "#data = pd.read_csv(\"~/Downloads/public_transportation_statistics_by_zip_code.csv\", dtype={'zip_code':str})\n",
    "data = pd.read_csv(\"public_transportation_statistics_by_zip_code.csv\", dtype={'zip_code':str})"
   ]
  },
  {
   "cell_type": "code",
   "execution_count": 6,
   "metadata": {
    "colab": {},
    "colab_type": "code",
    "id": "OoAFEQ8sFDWz",
    "outputId": "e74cb7ba-f1b7-4974-ddfc-2d3d4db81d3a"
   },
   "outputs": [
    {
     "data": {
      "text/html": [
       "<div>\n",
       "<style scoped>\n",
       "    .dataframe tbody tr th:only-of-type {\n",
       "        vertical-align: middle;\n",
       "    }\n",
       "\n",
       "    .dataframe tbody tr th {\n",
       "        vertical-align: top;\n",
       "    }\n",
       "\n",
       "    .dataframe thead th {\n",
       "        text-align: right;\n",
       "    }\n",
       "</style>\n",
       "<table border=\"1\" class=\"dataframe\">\n",
       "  <thead>\n",
       "    <tr style=\"text-align: right;\">\n",
       "      <th></th>\n",
       "      <th>zip_code</th>\n",
       "      <th>public_transportation_pct</th>\n",
       "      <th>public_transportation_population</th>\n",
       "    </tr>\n",
       "  </thead>\n",
       "  <tbody>\n",
       "    <tr>\n",
       "      <th>0</th>\n",
       "      <td>01379</td>\n",
       "      <td>3.3</td>\n",
       "      <td>13</td>\n",
       "    </tr>\n",
       "    <tr>\n",
       "      <th>1</th>\n",
       "      <td>01440</td>\n",
       "      <td>0.4</td>\n",
       "      <td>34</td>\n",
       "    </tr>\n",
       "    <tr>\n",
       "      <th>2</th>\n",
       "      <td>01505</td>\n",
       "      <td>0.9</td>\n",
       "      <td>23</td>\n",
       "    </tr>\n",
       "    <tr>\n",
       "      <th>3</th>\n",
       "      <td>01524</td>\n",
       "      <td>0.5</td>\n",
       "      <td>20</td>\n",
       "    </tr>\n",
       "    <tr>\n",
       "      <th>4</th>\n",
       "      <td>01529</td>\n",
       "      <td>1.8</td>\n",
       "      <td>32</td>\n",
       "    </tr>\n",
       "  </tbody>\n",
       "</table>\n",
       "</div>"
      ],
      "text/plain": [
       "  zip_code  public_transportation_pct  public_transportation_population\n",
       "0    01379                        3.3                                13\n",
       "1    01440                        0.4                                34\n",
       "2    01505                        0.9                                23\n",
       "3    01524                        0.5                                20\n",
       "4    01529                        1.8                                32"
      ]
     },
     "execution_count": 6,
     "metadata": {},
     "output_type": "execute_result"
    }
   ],
   "source": [
    "data.head()"
   ]
  },
  {
   "cell_type": "markdown",
   "metadata": {
    "colab_type": "text",
    "id": "2SSowS97FDW3"
   },
   "source": [
    "## 3.\tCalculate the max and min percentages in this data. Values below 0 are most likely used to indicate missing data. "
   ]
  },
  {
   "cell_type": "code",
   "execution_count": 7,
   "metadata": {
    "colab": {},
    "colab_type": "code",
    "id": "9k_pHRKtFDW4"
   },
   "outputs": [],
   "source": [
    "import csv\n",
    "from io import StringIO\n",
    "\n",
    "def psql_insert_copy(table, conn, keys, data_iter):\n",
    "    # gets a DBAPI connection that can provide a cursor\n",
    "    dbapi_conn = conn.connection\n",
    "    with dbapi_conn.cursor() as cur:\n",
    "        s_buf = StringIO()\n",
    "        writer = csv.writer(s_buf)\n",
    "        writer.writerows(data_iter)\n",
    "        s_buf.seek(0)\n",
    "\n",
    "        columns = ', '.join('\"{}\"'.format(k) for k in keys)\n",
    "        if table.schema:\n",
    "            table_name = '{}.{}'.format(table.schema, table.name)\n",
    "        else:\n",
    "            table_name = table.name\n",
    "\n",
    "        sql = 'COPY {} ({}) FROM STDIN WITH CSV'.format(\n",
    "            table_name, columns)\n",
    "        cur.copy_expert(sql=sql, file=s_buf)\n",
    "\n",
    "data.to_sql('public_transportation_by_zip', engine, if_exists='replace', method=psql_insert_copy)"
   ]
  },
  {
   "cell_type": "code",
   "execution_count": 8,
   "metadata": {
    "colab": {},
    "colab_type": "code",
    "id": "gy4F5nBAFDW7",
    "outputId": "453fd46a-48bc-4f20-9f76-5b0630b9bf6d"
   },
   "outputs": [
    {
     "data": {
      "text/plain": [
       "zip_code                            99929.0\n",
       "public_transportation_pct             100.0\n",
       "public_transportation_population    35139.0\n",
       "dtype: float64"
      ]
     },
     "execution_count": 8,
     "metadata": {},
     "output_type": "execute_result"
    }
   ],
   "source": [
    "data.max()"
   ]
  },
  {
   "cell_type": "code",
   "execution_count": 9,
   "metadata": {
    "colab": {},
    "colab_type": "code",
    "id": "2pRIy0U8FDW-",
    "outputId": "d6c185a8-ab19-4a22-d321-4769767c0246"
   },
   "outputs": [
    {
     "data": {
      "text/plain": [
       "zip_code                                  601.0\n",
       "public_transportation_pct          -666666666.0\n",
       "public_transportation_population            0.0\n",
       "dtype: float64"
      ]
     },
     "execution_count": 9,
     "metadata": {},
     "output_type": "execute_result"
    }
   ],
   "source": [
    "data.min()"
   ]
  },
  {
   "cell_type": "code",
   "execution_count": 10,
   "metadata": {
    "colab": {},
    "colab_type": "code",
    "id": "cVz7s-OcFDXD",
    "outputId": "3af59e01-ba24-4080-eac0-1bf40efec2c9"
   },
   "outputs": [
    {
     "data": {
      "text/plain": [
       "[(100.0, -666666666.0)]"
      ]
     },
     "execution_count": 10,
     "metadata": {},
     "output_type": "execute_result"
    }
   ],
   "source": [
    "engine.execute(\"\"\"\n",
    "SELECT \n",
    "    MAX(public_transportation_pct) AS max_pct,\n",
    "    MIN(public_transportation_pct) AS min_pct\n",
    "FROM public_transportation_by_zip;\n",
    "\"\"\").fetchall()"
   ]
  },
  {
   "cell_type": "markdown",
   "metadata": {
    "colab_type": "text",
    "id": "d0VGGWCCFDXF"
   },
   "source": [
    "## 4.\tCalculate the average sales amounts for customers that live in high public transportation regions (over 10%) as well as low public transportation usage (less than or equal to 10%)."
   ]
  },
  {
   "cell_type": "code",
   "execution_count": 11,
   "metadata": {
    "colab": {},
    "colab_type": "code",
    "id": "S5Af7wasFDXG",
    "outputId": "c036f895-e201-4c16-810c-c2ada99df951"
   },
   "outputs": [
    {
     "data": {
      "text/plain": [
       "[(False, Decimal('1.4313810916785959')), (True, Decimal('1.6631875881523272'))]"
      ]
     },
     "execution_count": 11,
     "metadata": {},
     "output_type": "execute_result"
    }
   ],
   "source": [
    "engine.execute(\"\"\"\n",
    "SELECT \n",
    "    (public_transportation_pct > 10) AS is_high_public_transport,\n",
    "    COUNT(s.customer_id) * 1.0 / COUNT(DISTINCT c.customer_id) AS sales_per_customer \n",
    "FROM customers c\n",
    "INNER JOIN public_transportation_by_zip t ON t.zip_code = c.postal_code\n",
    "LEFT JOIN sales s ON s.customer_id = c.customer_id\n",
    "WHERE public_transportation_pct >= 0\n",
    "GROUP BY 1\n",
    "LIMIT 10;\n",
    "\"\"\").fetchall()"
   ]
  },
  {
   "cell_type": "markdown",
   "metadata": {
    "colab_type": "text",
    "id": "z5xLJgCPFDXJ"
   },
   "source": [
    "## 5.\tRead the data into pandas and plot the a histogram of the distribution to plot a histogram if you read the data into a pandas DataFrame my_data"
   ]
  },
  {
   "cell_type": "code",
   "execution_count": 12,
   "metadata": {
    "colab": {},
    "colab_type": "code",
    "id": "7E9tXMczFDXK",
    "outputId": "f2120ac5-b142-42b5-898e-153a514e03b9"
   },
   "outputs": [
    {
     "data": {
      "text/plain": [
       "<matplotlib.axes._subplots.AxesSubplot at 0x119343ad0>"
      ]
     },
     "execution_count": 12,
     "metadata": {},
     "output_type": "execute_result"
    },
    {
     "data": {
      "image/png": "[encoded data removed]",
      "text/plain": [
       "<Figure size 432x288 with 1 Axes>"
      ]
     },
     "metadata": {
      "needs_background": "light"
     },
     "output_type": "display_data"
    }
   ],
   "source": [
    "data = pd.read_sql_query(\"\"\"\n",
    "    SELECT *\n",
    "    FROM public_transportation_by_zip \n",
    "    WHERE public_transportation_pct > 0 \n",
    "    AND public_transportation_pct < 50\"\"\", engine)\n",
    "data.plot.hist(y='public_transportation_pct')"
   ]
  },
  {
   "cell_type": "markdown",
   "metadata": {
    "colab_type": "text",
    "id": "QlwZtb3wFDXN"
   },
   "source": [
    "## 6.\tUsing pandas, test using the to_sql function with and without the method=psql_insert_copy parameter. How does the speed compare?"
   ]
  },
  {
   "cell_type": "code",
   "execution_count": 13,
   "metadata": {
    "colab": {},
    "colab_type": "code",
    "id": "C1tbkwYhFDXO"
   },
   "outputs": [],
   "source": [
    "import csv\n",
    "from io import StringIO\n",
    "\n",
    "from sqlalchemy import create_engine\n",
    "\n",
    "def psql_insert_copy(table, conn, keys, data_iter):\n",
    "    # gets a DBAPI connection that can provide a cursor\n",
    "    dbapi_conn = conn.connection\n",
    "    with dbapi_conn.cursor() as cur:\n",
    "        s_buf = StringIO()\n",
    "        writer = csv.writer(s_buf)\n",
    "        writer.writerows(data_iter)\n",
    "        s_buf.seek(0)\n",
    "\n",
    "        columns = ', '.join('\"{}\"'.format(k) for k in keys)\n",
    "        if table.schema:\n",
    "            table_name = '{}.{}'.format(table.schema, table.name)\n",
    "        else:\n",
    "            table_name = table.name\n",
    "\n",
    "        sql = 'COPY {} ({}) FROM STDIN WITH CSV'.format(\n",
    "            table_name, columns)\n",
    "        cur.copy_expert(sql=sql, file=s_buf)"
   ]
  },
  {
   "cell_type": "code",
   "execution_count": 14,
   "metadata": {
    "colab": {},
    "colab_type": "code",
    "id": "caUdWiMpFDXT",
    "outputId": "6aad06e0-4e80-4e69-8b59-39990c31f006"
   },
   "outputs": [
    {
     "name": "stdout",
     "output_type": "stream",
     "text": [
      "CPU times: user 45.9 ms, sys: 4.56 ms, total: 50.4 ms\n",
      "Wall time: 148 ms\n"
     ]
    }
   ],
   "source": [
    "%time data.to_sql('public_transportation_by_zip', engine, method=psql_insert_copy, if_exists='replace')"
   ]
  },
  {
   "cell_type": "code",
   "execution_count": 15,
   "metadata": {
    "colab": {},
    "colab_type": "code",
    "id": "GQYHeOWAFDXW",
    "outputId": "5425f8f0-b4c7-4e01-e010-440e0b741d67"
   },
   "outputs": [
    {
     "name": "stdout",
     "output_type": "stream",
     "text": [
      "CPU times: user 655 ms, sys: 380 ms, total: 1.04 s\n",
      "Wall time: 2.69 s\n"
     ]
    }
   ],
   "source": [
    "%time data.to_sql('public_transportation_by_zip', engine, if_exists='replace')"
   ]
  },
  {
   "cell_type": "markdown",
   "metadata": {
    "colab_type": "text",
    "id": "3M9spVo1FDXZ"
   },
   "source": [
    "## 7.\tGroup customers based on their zipcode public transportation usage, rounded to the nearest 10% and look at the average number of transactions per customer. Export this data to excel and create a scatterplot to better understand the relationship between public transportation usage and sales. "
   ]
  },
  {
   "cell_type": "code",
   "execution_count": 16,
   "metadata": {
    "colab": {},
    "colab_type": "code",
    "id": "5GBxwoBVFDXa"
   },
   "outputs": [],
   "source": [
    "data = pd.read_sql_query(\"\"\"\n",
    "    SELECT\n",
    "        10 * ROUND(public_transportation_pct/10) AS public_transport,\n",
    "        COUNT(s.customer_id) * 1.0 / COUNT(DISTINCT c.customer_id) AS sales_per_customer \n",
    "    FROM customers c\n",
    "    INNER JOIN public_transportation_by_zip t ON t.zip_code = c.postal_code\n",
    "LEFT JOIN sales s ON s.customer_id = c.customer_id\n",
    "WHERE public_transportation_pct >= 0\n",
    "GROUP BY 1\n",
    "\"\"\", engine)"
   ]
  },
  {
   "cell_type": "code",
   "execution_count": 17,
   "metadata": {
    "colab": {},
    "colab_type": "code",
    "id": "mOvl9gzvFDXc"
   },
   "outputs": [],
   "source": [
    "data.to_csv('sales_vs_public_transport_pct.csv')"
   ]
  },
  {
   "cell_type": "markdown",
   "metadata": {
    "colab_type": "text",
    "id": "4nrPvR3oFOv3"
   },
   "source": [
    "\\copy (SELECT * FROM public_transport_statistics) TO 'pub-lic_transport_distribution.csv' CSV HEADER;"
   ]
  },
  {
   "cell_type": "code",
   "execution_count": null,
   "metadata": {},
   "outputs": [],
   "source": []
  }
 ],
 "metadata": {
  "colab": {
   "collapsed_sections": [],
   "name": "Activity4.01.ipynb",
   "provenance": []
  },
  "kernelspec": {
   "display_name": "Python 3",
   "language": "python",
   "name": "python3"
  },
  "language_info": {
   "codemirror_mode": {
    "name": "ipython",
    "version": 3
   },
   "file_extension": ".py",
   "mimetype": "text/x-python",
   "name": "python",
   "nbconvert_exporter": "python",
   "pygments_lexer": "ipython3",
   "version": "3.7.6"
  }
 },
 "nbformat": 4,
 "nbformat_minor": 1
}
