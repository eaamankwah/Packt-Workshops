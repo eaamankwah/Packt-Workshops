{
 "cells": [
  {
   "cell_type": "code",
   "execution_count": 1,
   "metadata": {
    "colab": {},
    "colab_type": "code",
    "id": "aUcSSVlSOGoA"
   },
   "outputs": [],
   "source": [
    "import pandas as pd\n",
    "import numpy as np\n",
    "import matplotlib.pyplot as plt\n",
    "from sklearn.metrics import r2_score\n",
    "from sklearn.linear_model import SGDRegressor"
   ]
  },
  {
   "cell_type": "code",
   "execution_count": 2,
   "metadata": {
    "colab": {
     "base_uri": "https://localhost:8080/",
     "height": 289
    },
    "colab_type": "code",
    "id": "kDn9hp3dPX5G",
    "outputId": "10aaed77-f1b9-4735-89b9-0d2d614a9e98"
   },
   "outputs": [],
   "source": [
    "#\n",
    "# load data and inspect\n",
    "#\n",
    "df = pd.read_csv('../Datasets/austin_weather.csv')"
   ]
  },
  {
   "cell_type": "code",
   "execution_count": 3,
   "metadata": {
    "colab": {
     "base_uri": "https://localhost:8080/",
     "height": 204
    },
    "colab_type": "code",
    "id": "hBtKePSxQDOV",
    "outputId": "11e0290a-73f3-4587-8653-b75303f566ed"
   },
   "outputs": [],
   "source": [
    "df = df.loc[:, ['Date', 'TempAvgF']]"
   ]
  },
  {
   "cell_type": "code",
   "execution_count": 4,
   "metadata": {
    "colab": {
     "base_uri": "https://localhost:8080/",
     "height": 221
    },
    "colab_type": "code",
    "id": "91njYskTbYvc",
    "outputId": "2087cfdd-2acc-4aee-9ec0-cc88b426214e"
   },
   "outputs": [],
   "source": [
    "#\n",
    "# add time-based columns\n",
    "#\n",
    "df.loc[:, 'Year'] = df.loc[:, 'Date'].str.slice(0, 4).astype('int')\n",
    "df.loc[:, 'Month'] = df.loc[:, 'Date'].str.slice(5, 7).astype('int')\n",
    "df.loc[:, 'Day'] = df.loc[:, 'Date'].str.slice(8, 10).astype('int')"
   ]
  },
  {
   "cell_type": "code",
   "execution_count": 5,
   "metadata": {
    "colab": {
     "base_uri": "https://localhost:8080/",
     "height": 221
    },
    "colab_type": "code",
    "id": "bb7yHHt-cXt_",
    "outputId": "3b1725b7-b0c6-49d6-f760-018ec5cebf3c"
   },
   "outputs": [],
   "source": [
    "#\n",
    "# set a 20 day window then use that to smooth \n",
    "# temperature in a new column\n",
    "window = 20\n",
    "df['20_d_mov_avg'] = df.TempAvgF.rolling(window).mean()"
   ]
  },
  {
   "cell_type": "code",
   "execution_count": 6,
   "metadata": {
    "colab": {
     "base_uri": "https://localhost:8080/",
     "height": 221
    },
    "colab_type": "code",
    "id": "qm2_i2KdtLTY",
    "outputId": "589c4383-8ba6-40ce-c06d-b8123f41eda8"
   },
   "outputs": [
    {
     "name": "stdout",
     "output_type": "stream",
     "text": [
      "   index        Date  TempAvgF  Year  Month  Day  20_d_mov_avg  Day_of_Year\n",
      "0    376  2015-01-01        37  2015      1    1         52.70            1\n",
      "1    377  2015-01-02        41  2015      1    2         51.50            2\n",
      "2    378  2015-01-03        51  2015      1    3         50.65            3\n",
      "3    379  2015-01-04        43  2015      1    4         49.65            4\n",
      "4    380  2015-01-05        41  2015      1    5         48.95            5\n",
      "     index        Date  TempAvgF  Year  Month  Day  20_d_mov_avg  Day_of_Year\n",
      "360    736  2015-12-27        55  2015     12   27         61.10          361\n",
      "361    737  2015-12-28        41  2015     12   28         60.20          362\n",
      "362    738  2015-12-29        43  2015     12   29         59.25          363\n",
      "363    739  2015-12-30        49  2015     12   30         58.45          364\n",
      "364    740  2015-12-31        46  2015     12   31         57.45          365\n"
     ]
    }
   ],
   "source": [
    "#\n",
    "# now let's slice exactly one year on the\n",
    "# calendar start and end dates\n",
    "# we see from the previous output that \n",
    "# 2014 is the first year with complete data, \n",
    "# however it will still have NaN values for \n",
    "# the moving average, so we'll use 2015\n",
    "#\n",
    "df_one_year = df.loc[df.Year == 2015, :].reset_index()\n",
    "df_one_year['Day_of_Year'] = df_one_year.index + 1\n",
    "print(df_one_year.head())\n",
    "print(df_one_year.tail())"
   ]
  },
  {
   "cell_type": "code",
   "execution_count": 7,
   "metadata": {},
   "outputs": [],
   "source": [
    "#\n",
    "# scale the data\n",
    "#\n",
    "X_min = df_one_year.Day_of_Year.min()\n",
    "X_range = df_one_year.Day_of_Year.max() - df_one_year.Day_of_Year.min()\n",
    "Y_min = df_one_year.TempAvgF.min()\n",
    "Y_range = df_one_year.TempAvgF.max() - df_one_year.TempAvgF.min()\n",
    "scale_X = (df_one_year.Day_of_Year - X_min) / X_range\n",
    "#\n",
    "train_X = scale_X.ravel()\n",
    "train_Y = ((df_one_year.TempAvgF - Y_min) / Y_range).ravel()"
   ]
  },
  {
   "cell_type": "code",
   "execution_count": 8,
   "metadata": {},
   "outputs": [],
   "source": [
    "#\n",
    "# create the model object\n",
    "#\n",
    "np.random.seed(42)\n",
    "model = SGDRegressor(\n",
    "    loss = 'squared_loss',\n",
    "    max_iter = 100,\n",
    "    learning_rate = 'constant',\n",
    "    eta0 = 0.0005,\n",
    "    tol = 0.00009,\n",
    "    penalty = 'none')"
   ]
  },
  {
   "cell_type": "code",
   "execution_count": 9,
   "metadata": {},
   "outputs": [
    {
     "data": {
      "text/plain": [
       "SGDRegressor(alpha=0.0001, average=False, early_stopping=False, epsilon=0.1,\n",
       "             eta0=0.0005, fit_intercept=True, l1_ratio=0.15,\n",
       "             learning_rate='constant', loss='squared_loss', max_iter=100,\n",
       "             n_iter_no_change=5, penalty='none', power_t=0.25,\n",
       "             random_state=None, shuffle=True, tol=9e-05,\n",
       "             validation_fraction=0.1, verbose=0, warm_start=False)"
      ]
     },
     "execution_count": 9,
     "metadata": {},
     "output_type": "execute_result"
    }
   ],
   "source": [
    "#\n",
    "# fit the model\n",
    "#\n",
    "model.fit(train_X.reshape((-1, 1)), train_Y)"
   ]
  },
  {
   "cell_type": "code",
   "execution_count": 10,
   "metadata": {
    "scrolled": true
   },
   "outputs": [
    {
     "name": "stdout",
     "output_type": "stream",
     "text": [
      "61.45512325422412\n",
      "0.04533603293003107\n"
     ]
    }
   ],
   "source": [
    "Beta0 = (Y_min + Y_range * model.intercept_[0] - \n",
    "        Y_range * model.coef_[0] * X_min / X_range)\n",
    "Beta1 = Y_range * model.coef_[0] / X_range\n",
    "print(Beta0)\n",
    "print(Beta1)"
   ]
  },
  {
   "cell_type": "code",
   "execution_count": 11,
   "metadata": {},
   "outputs": [],
   "source": [
    "#\n",
    "# generate predictions\n",
    "#\n",
    "pred_X = df_one_year['Day_of_Year']\n",
    "pred_Y = model.predict(train_X.reshape((-1, 1)))"
   ]
  },
  {
   "cell_type": "code",
   "execution_count": 12,
   "metadata": {},
   "outputs": [
    {
     "name": "stdout",
     "output_type": "stream",
     "text": [
      "r squared =  0.09462157379706759\n"
     ]
    }
   ],
   "source": [
    "#\n",
    "# calcualte the r squared value\n",
    "#\n",
    "r2 = r2_score(train_Y, pred_Y)\n",
    "print('r squared = ', r2)"
   ]
  },
  {
   "cell_type": "code",
   "execution_count": 13,
   "metadata": {},
   "outputs": [],
   "source": [
    "#\n",
    "# scale predictions back to real values\n",
    "#\n",
    "pred_Y = (pred_Y * Y_range) + Y_min"
   ]
  },
  {
   "cell_type": "code",
   "execution_count": 14,
   "metadata": {
    "colab": {
     "base_uri": "https://localhost:8080/",
     "height": 608
    },
    "colab_type": "code",
    "id": "RKtQn57hRMM8",
    "outputId": "7a3cbfe9-9c1c-4f08-c6b6-a231974ec0e6",
    "scrolled": false
   },
   "outputs": [
    {
     "data": {
      "image/png": "[encoded data removed]",
      "text/plain": [
       "<Figure size 720x504 with 1 Axes>"
      ]
     },
     "metadata": {
      "needs_background": "light"
     },
     "output_type": "display_data"
    }
   ],
   "source": [
    "fig = plt.figure(figsize = (10, 7))\n",
    "ax = fig.add_axes([1, 1, 1, 1])\n",
    "#\n",
    "# Raw data\n",
    "#\n",
    "ax.scatter(df_one_year.Day_of_Year, \n",
    "           df_one_year.TempAvgF, \n",
    "           label = 'Raw Data', c = 'k')\n",
    "#\n",
    "# Moving averages\n",
    "#\n",
    "ax.plot(df_one_year.Day_of_Year,\n",
    "        df_one_year['20_d_mov_avg'], \n",
    "        c = 'r', \n",
    "        linestyle = '--', \n",
    "        label = f'{window} day moving average')\n",
    "#\n",
    "# Regression predictions\n",
    "#\n",
    "ax.plot(pred_X, pred_Y,\n",
    "        c = \"blue\",\n",
    "        linestyle = '-.',\n",
    "        linewidth = 4,\n",
    "        label = 'linear fit (from SGD)')\n",
    "#\n",
    "# put the model on the plot\n",
    "#\n",
    "ax.text(1, 85,\n",
    "        'Temp = ' + \n",
    "        str(round(Beta0, 2)) +\n",
    "        ' + ' +\n",
    "        str(round(Beta1, 4)) +\n",
    "        ' * Day',\n",
    "        fontsize = 16)\n",
    "#\n",
    "ax.set_title('Air Temperature Measurements',\n",
    "             fontsize = 16)\n",
    "ax.set_xlabel('Day', \n",
    "              fontsize = 14)\n",
    "ax.set_ylabel('Temperature ($^\\circ$F)', \n",
    "              fontsize = 14)\n",
    "ax.set_xticks(range(df_one_year.Day_of_Year.min(), \n",
    "                    df_one_year.Day_of_Year.max(), \n",
    "                    30))\n",
    "ax.tick_params(labelsize = 12)\n",
    "ax.legend(fontsize = 12)\n",
    "plt.show()"
   ]
  },
  {
   "cell_type": "code",
   "execution_count": null,
   "metadata": {},
   "outputs": [],
   "source": []
  }
 ],
 "metadata": {
  "colab": {
   "collapsed_sections": [],
   "name": "Activity 2.02.ipynb",
   "provenance": []
  },
  "kernelspec": {
   "display_name": "Python 3",
   "language": "python",
   "name": "python3"
  },
  "language_info": {
   "codemirror_mode": {
    "name": "ipython",
    "version": 3
   },
   "file_extension": ".py",
   "mimetype": "text/x-python",
   "name": "python",
   "nbconvert_exporter": "python",
   "pygments_lexer": "ipython3",
   "version": "3.7.6"
  }
 },
 "nbformat": 4,
 "nbformat_minor": 1
}
