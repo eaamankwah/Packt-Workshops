{
 "cells": [
  {
   "cell_type": "code",
   "execution_count": 1,
   "metadata": {
    "colab": {},
    "colab_type": "code",
    "id": "aUcSSVlSOGoA"
   },
   "outputs": [],
   "source": [
    "import pandas as pd\n",
    "import numpy as np\n",
    "import matplotlib.pyplot as plt\n",
    "from sklearn.linear_model import LinearRegression"
   ]
  },
  {
   "cell_type": "code",
   "execution_count": 2,
   "metadata": {
    "colab": {
     "base_uri": "https://localhost:8080/",
     "height": 289
    },
    "colab_type": "code",
    "id": "kDn9hp3dPX5G",
    "outputId": "006b2a21-9de2-42cb-c84b-1c05a924d9c8"
   },
   "outputs": [],
   "source": [
    "#\n",
    "# load data\n",
    "#\n",
    "df = pd.read_csv('../Datasets/austin_weather.csv')"
   ]
  },
  {
   "cell_type": "code",
   "execution_count": 3,
   "metadata": {
    "colab": {
     "base_uri": "https://localhost:8080/",
     "height": 204
    },
    "colab_type": "code",
    "id": "hBtKePSxQDOV",
    "outputId": "376019db-14b6-40c7-bb8e-7fc173cfae24"
   },
   "outputs": [],
   "source": [
    "df = df.loc[:, ['Date', 'TempAvgF']]"
   ]
  },
  {
   "cell_type": "code",
   "execution_count": 4,
   "metadata": {
    "colab": {
     "base_uri": "https://localhost:8080/",
     "height": 221
    },
    "colab_type": "code",
    "id": "91njYskTbYvc",
    "outputId": "474e9dca-394b-4713-9622-5367c21da1ac"
   },
   "outputs": [],
   "source": [
    "#\n",
    "# add some useful columns\n",
    "#\n",
    "df.loc[:, 'Year'] = df.loc[:, 'Date'].str.slice(0, 4).astype('int')\n",
    "df.loc[:, 'Month'] = df.loc[:, 'Date'].str.slice(5, 7).astype('int')\n",
    "df.loc[:, 'Day'] = df.loc[:, 'Date'].str.slice(8, 10).astype('int')"
   ]
  },
  {
   "cell_type": "code",
   "execution_count": 5,
   "metadata": {
    "colab": {
     "base_uri": "https://localhost:8080/",
     "height": 221
    },
    "colab_type": "code",
    "id": "bb7yHHt-cXt_",
    "outputId": "b45ff4ee-b333-44eb-9f80-dea3a880cb65"
   },
   "outputs": [],
   "source": [
    "#\n",
    "# set a 20 day window then use that to smooth \n",
    "# temperature in a new column\n",
    "window = 20\n",
    "df['20_d_mov_avg'] = df.TempAvgF.rolling(window).mean()"
   ]
  },
  {
   "cell_type": "code",
   "execution_count": 6,
   "metadata": {
    "colab": {
     "base_uri": "https://localhost:8080/",
     "height": 221
    },
    "colab_type": "code",
    "id": "qm2_i2KdtLTY",
    "outputId": "f592a3b4-31bc-42c6-9673-628ea1ec7de2"
   },
   "outputs": [],
   "source": [
    "#\n",
    "# now let's slice exactly one year on the\n",
    "# calendar start and end dates\n",
    "# we see from the previous output that \n",
    "# 2014 is the first year with complete data, \n",
    "# however it will still have NaN values for \n",
    "# the moving average, so we'll use 2015\n",
    "#\n",
    "df_one_year = df.loc[df.Year == 2015, :].reset_index()\n",
    "df_one_year['Day_of_Year'] = df_one_year.index + 1"
   ]
  },
  {
   "cell_type": "code",
   "execution_count": 7,
   "metadata": {
    "colab": {
     "base_uri": "https://localhost:8080/",
     "height": 609
    },
    "colab_type": "code",
    "id": "EZrW77l43Vbz",
    "outputId": "b9dec81d-728e-48a9-c34e-9b0e86ca332d"
   },
   "outputs": [
    {
     "data": {
      "text/html": [
       "<div>\n",
       "<style scoped>\n",
       "    .dataframe tbody tr th:only-of-type {\n",
       "        vertical-align: middle;\n",
       "    }\n",
       "\n",
       "    .dataframe tbody tr th {\n",
       "        vertical-align: top;\n",
       "    }\n",
       "\n",
       "    .dataframe thead th {\n",
       "        text-align: right;\n",
       "    }\n",
       "</style>\n",
       "<table border=\"1\" class=\"dataframe\">\n",
       "  <thead>\n",
       "    <tr style=\"text-align: right;\">\n",
       "      <th></th>\n",
       "      <th>index</th>\n",
       "      <th>Date</th>\n",
       "      <th>TempAvgF</th>\n",
       "      <th>Year</th>\n",
       "      <th>Month</th>\n",
       "      <th>Day</th>\n",
       "      <th>20_d_mov_avg</th>\n",
       "      <th>Day_of_Year</th>\n",
       "      <th>sine_Day</th>\n",
       "      <th>cosine_Day</th>\n",
       "    </tr>\n",
       "  </thead>\n",
       "  <tbody>\n",
       "    <tr>\n",
       "      <td>0</td>\n",
       "      <td>376</td>\n",
       "      <td>2015-01-01</td>\n",
       "      <td>37</td>\n",
       "      <td>2015</td>\n",
       "      <td>1</td>\n",
       "      <td>1</td>\n",
       "      <td>52.70</td>\n",
       "      <td>1</td>\n",
       "      <td>1.721336e-02</td>\n",
       "      <td>0.999852</td>\n",
       "    </tr>\n",
       "    <tr>\n",
       "      <td>1</td>\n",
       "      <td>377</td>\n",
       "      <td>2015-01-02</td>\n",
       "      <td>41</td>\n",
       "      <td>2015</td>\n",
       "      <td>1</td>\n",
       "      <td>2</td>\n",
       "      <td>51.50</td>\n",
       "      <td>2</td>\n",
       "      <td>3.442161e-02</td>\n",
       "      <td>0.999407</td>\n",
       "    </tr>\n",
       "    <tr>\n",
       "      <td>2</td>\n",
       "      <td>378</td>\n",
       "      <td>2015-01-03</td>\n",
       "      <td>51</td>\n",
       "      <td>2015</td>\n",
       "      <td>1</td>\n",
       "      <td>3</td>\n",
       "      <td>50.65</td>\n",
       "      <td>3</td>\n",
       "      <td>5.161967e-02</td>\n",
       "      <td>0.998667</td>\n",
       "    </tr>\n",
       "    <tr>\n",
       "      <td>3</td>\n",
       "      <td>379</td>\n",
       "      <td>2015-01-04</td>\n",
       "      <td>43</td>\n",
       "      <td>2015</td>\n",
       "      <td>1</td>\n",
       "      <td>4</td>\n",
       "      <td>49.65</td>\n",
       "      <td>4</td>\n",
       "      <td>6.880243e-02</td>\n",
       "      <td>0.997630</td>\n",
       "    </tr>\n",
       "    <tr>\n",
       "      <td>4</td>\n",
       "      <td>380</td>\n",
       "      <td>2015-01-05</td>\n",
       "      <td>41</td>\n",
       "      <td>2015</td>\n",
       "      <td>1</td>\n",
       "      <td>5</td>\n",
       "      <td>48.95</td>\n",
       "      <td>5</td>\n",
       "      <td>8.596480e-02</td>\n",
       "      <td>0.996298</td>\n",
       "    </tr>\n",
       "    <tr>\n",
       "      <td>...</td>\n",
       "      <td>...</td>\n",
       "      <td>...</td>\n",
       "      <td>...</td>\n",
       "      <td>...</td>\n",
       "      <td>...</td>\n",
       "      <td>...</td>\n",
       "      <td>...</td>\n",
       "      <td>...</td>\n",
       "      <td>...</td>\n",
       "      <td>...</td>\n",
       "    </tr>\n",
       "    <tr>\n",
       "      <td>360</td>\n",
       "      <td>736</td>\n",
       "      <td>2015-12-27</td>\n",
       "      <td>55</td>\n",
       "      <td>2015</td>\n",
       "      <td>12</td>\n",
       "      <td>27</td>\n",
       "      <td>61.10</td>\n",
       "      <td>361</td>\n",
       "      <td>-6.880243e-02</td>\n",
       "      <td>0.997630</td>\n",
       "    </tr>\n",
       "    <tr>\n",
       "      <td>361</td>\n",
       "      <td>737</td>\n",
       "      <td>2015-12-28</td>\n",
       "      <td>41</td>\n",
       "      <td>2015</td>\n",
       "      <td>12</td>\n",
       "      <td>28</td>\n",
       "      <td>60.20</td>\n",
       "      <td>362</td>\n",
       "      <td>-5.161967e-02</td>\n",
       "      <td>0.998667</td>\n",
       "    </tr>\n",
       "    <tr>\n",
       "      <td>362</td>\n",
       "      <td>738</td>\n",
       "      <td>2015-12-29</td>\n",
       "      <td>43</td>\n",
       "      <td>2015</td>\n",
       "      <td>12</td>\n",
       "      <td>29</td>\n",
       "      <td>59.25</td>\n",
       "      <td>363</td>\n",
       "      <td>-3.442161e-02</td>\n",
       "      <td>0.999407</td>\n",
       "    </tr>\n",
       "    <tr>\n",
       "      <td>363</td>\n",
       "      <td>739</td>\n",
       "      <td>2015-12-30</td>\n",
       "      <td>49</td>\n",
       "      <td>2015</td>\n",
       "      <td>12</td>\n",
       "      <td>30</td>\n",
       "      <td>58.45</td>\n",
       "      <td>364</td>\n",
       "      <td>-1.721336e-02</td>\n",
       "      <td>0.999852</td>\n",
       "    </tr>\n",
       "    <tr>\n",
       "      <td>364</td>\n",
       "      <td>740</td>\n",
       "      <td>2015-12-31</td>\n",
       "      <td>46</td>\n",
       "      <td>2015</td>\n",
       "      <td>12</td>\n",
       "      <td>31</td>\n",
       "      <td>57.45</td>\n",
       "      <td>365</td>\n",
       "      <td>6.432491e-16</td>\n",
       "      <td>1.000000</td>\n",
       "    </tr>\n",
       "  </tbody>\n",
       "</table>\n",
       "<p>365 rows × 10 columns</p>\n",
       "</div>"
      ],
      "text/plain": [
       "     index        Date  TempAvgF  Year  Month  Day  20_d_mov_avg  Day_of_Year  \\\n",
       "0      376  2015-01-01        37  2015      1    1         52.70            1   \n",
       "1      377  2015-01-02        41  2015      1    2         51.50            2   \n",
       "2      378  2015-01-03        51  2015      1    3         50.65            3   \n",
       "3      379  2015-01-04        43  2015      1    4         49.65            4   \n",
       "4      380  2015-01-05        41  2015      1    5         48.95            5   \n",
       "..     ...         ...       ...   ...    ...  ...           ...          ...   \n",
       "360    736  2015-12-27        55  2015     12   27         61.10          361   \n",
       "361    737  2015-12-28        41  2015     12   28         60.20          362   \n",
       "362    738  2015-12-29        43  2015     12   29         59.25          363   \n",
       "363    739  2015-12-30        49  2015     12   30         58.45          364   \n",
       "364    740  2015-12-31        46  2015     12   31         57.45          365   \n",
       "\n",
       "         sine_Day  cosine_Day  \n",
       "0    1.721336e-02    0.999852  \n",
       "1    3.442161e-02    0.999407  \n",
       "2    5.161967e-02    0.998667  \n",
       "3    6.880243e-02    0.997630  \n",
       "4    8.596480e-02    0.996298  \n",
       "..            ...         ...  \n",
       "360 -6.880243e-02    0.997630  \n",
       "361 -5.161967e-02    0.998667  \n",
       "362 -3.442161e-02    0.999407  \n",
       "363 -1.721336e-02    0.999852  \n",
       "364  6.432491e-16    1.000000  \n",
       "\n",
       "[365 rows x 10 columns]"
      ]
     },
     "execution_count": 7,
     "metadata": {},
     "output_type": "execute_result"
    }
   ],
   "source": [
    "#\n",
    "# add two columns for sine and cosine of the Day_of_Year\n",
    "#\n",
    "df_one_year['sine_Day'] = np.sin(\n",
    "    2 * np.pi * df_one_year['Day_of_Year'] / 365)\n",
    "df_one_year['cosine_Day'] = np.cos(\n",
    "    2 * np.pi * df_one_year['Day_of_Year'] / 365)\n",
    "#\n",
    "df_one_year"
   ]
  },
  {
   "cell_type": "code",
   "execution_count": 8,
   "metadata": {
    "colab": {
     "base_uri": "https://localhost:8080/",
     "height": 102
    },
    "colab_type": "code",
    "id": "hQZV2w2v39_b",
    "outputId": "78d41c36-cb8d-4e2c-db20-7fcd091c875e"
   },
   "outputs": [
    {
     "name": "stdout",
     "output_type": "stream",
     "text": [
      "model coefficients:  [ 1.46396364e-02 -5.57332499e+00 -1.67824174e+01]\n",
      "model intercept:  67.43327530313064\n",
      "model r squared:  0.779745650129063\n"
     ]
    }
   ],
   "source": [
    "#\n",
    "# fit model using the Day_of_Year and sin/cos\n",
    "#\n",
    "linear_model = LinearRegression(fit_intercept = True)\n",
    "linear_model.fit(\n",
    "    df_one_year[['Day_of_Year', 'sine_Day', 'cosine_Day']],\n",
    "    df_one_year['TempAvgF'])\n",
    "print('model coefficients: ', linear_model.coef_)\n",
    "print('model intercept: ', linear_model.intercept_)\n",
    "print('model r squared: ',\n",
    "      linear_model.score(\n",
    "          df_one_year[['Day_of_Year', 'sine_Day', 'cosine_Day']],\n",
    "          df_one_year['TempAvgF']))"
   ]
  },
  {
   "cell_type": "code",
   "execution_count": 9,
   "metadata": {
    "colab": {},
    "colab_type": "code",
    "id": "-nPKsGiM7sYM"
   },
   "outputs": [],
   "source": [
    "#\n",
    "# make predictions using the data\n",
    "#\n",
    "y_pred = linear_model.predict(\n",
    "    df_one_year[['Day_of_Year', 'sine_Day', 'cosine_Day']])\n",
    "x_pred = df_one_year.Day_of_Year"
   ]
  },
  {
   "cell_type": "code",
   "execution_count": 10,
   "metadata": {
    "colab": {
     "base_uri": "https://localhost:8080/",
     "height": 608
    },
    "colab_type": "code",
    "id": "uOa2Pbp-8EzJ",
    "outputId": "217c2a89-301c-4dc9-f955-a595cc3ae99b",
    "scrolled": false
   },
   "outputs": [
    {
     "data": {
      "image/png": "[encoded data removed]",
      "text/plain": [
       "<Figure size 720x504 with 1 Axes>"
      ]
     },
     "metadata": {
      "needs_background": "light"
     },
     "output_type": "display_data"
    }
   ],
   "source": [
    "fig = plt.figure(figsize=(10, 7))\n",
    "ax = fig.add_axes([1, 1, 1, 1])\n",
    "#\n",
    "# Raw data\n",
    "#\n",
    "ax.scatter(df_one_year.Day_of_Year, \n",
    "           df_one_year.TempAvgF, \n",
    "           label = 'Raw Data', c = 'k')\n",
    "#\n",
    "# Moving averages\n",
    "#\n",
    "ax.plot(df_one_year.Day_of_Year,\n",
    "        df_one_year['20_d_mov_avg'], \n",
    "        c = 'r', \n",
    "        linestyle = '--', \n",
    "        label = f'{window} day moving average')\n",
    "#\n",
    "# regression predictions\n",
    "#\n",
    "ax.plot(x_pred, y_pred,\n",
    "        c = \"blue\",\n",
    "        linestyle = '-.',\n",
    "        label = 'linear model w/sin-cos fit')\n",
    "ax.set_title('Air Temperature Measurements',\n",
    "             fontsize = 16)\n",
    "ax.set_xlabel('Day', \n",
    "              fontsize = 14)\n",
    "ax.set_ylabel('Temperature ($^\\circ$F)', \n",
    "              fontsize = 14)\n",
    "ax.set_xticks(range(df_one_year.Day_of_Year.min(), \n",
    "                    df_one_year.Day_of_Year.max(), \n",
    "                    30))\n",
    "ax.tick_params(labelsize = 12)\n",
    "ax.legend(fontsize = 12,\n",
    "          loc = 'upper left')\n",
    "plt.show()"
   ]
  },
  {
   "cell_type": "code",
   "execution_count": null,
   "metadata": {},
   "outputs": [],
   "source": []
  }
 ],
 "metadata": {
  "colab": {
   "collapsed_sections": [],
   "name": "Activity 2.03_colab.ipynb",
   "provenance": []
  },
  "kernelspec": {
   "display_name": "Python 3",
   "language": "python",
   "name": "python3"
  },
  "language_info": {
   "codemirror_mode": {
    "name": "ipython",
    "version": 3
   },
   "file_extension": ".py",
   "mimetype": "text/x-python",
   "name": "python",
   "nbconvert_exporter": "python",
   "pygments_lexer": "ipython3",
   "version": "3.7.6"
  }
 },
 "nbformat": 4,
 "nbformat_minor": 1
}
